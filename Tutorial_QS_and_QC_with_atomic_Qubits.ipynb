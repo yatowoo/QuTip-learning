{
  "nbformat": 4,
  "nbformat_minor": 0,
  "metadata": {
    "colab": {
      "name": "Tutorial QS and QC with atomic Qubits.ipynb",
      "provenance": [],
      "collapsed_sections": [
        "-lUBI3uNpoes",
        "VEWmHtevS_SD",
        "wiklS8hrTFnw",
        "ZbLLlUKwpx98",
        "yPgUXC7bp61m",
        "RJNMTNnRqAWl",
        "aConIkDHqhLF",
        "t5eHB6P1qvC9",
        "TEEpbKTXrQNP",
        "KpaxFJmgr0li",
        "XITaqhnasMpp",
        "d7H9JY_Ks1oq",
        "gvrY0SOUuPem",
        "SliXrZor5teh",
        "OVjjWhkt5te4",
        "W8Uaou0o5tfL",
        "HdpnvCDK5tfp",
        "oPvpdKFk5tf2",
        "Mm0LmHPm5tgB",
        "haB2gy3u5tgJ",
        "hIagS4KHULgh",
        "AjuGPt-GULgn",
        "5Qju3uMQSppR",
        "-upi9pIRSpq-",
        "cLoQ0LOeSprp",
        "DfRipF56Spr0",
        "bHE0EezhAKqb",
        "fotTBkBKAKqx",
        "FOrIWJ9lAKrn",
        "Sr-T8agJAKsK",
        "MJ9V8lSMetb8",
        "DRYhjeviXxuz",
        "MSUS7QCQYYl1",
        "imWZ27YpgjgM",
        "jM3-wCC3chdJ",
        "GQ4ZhWccb3MP",
        "bkmpKmfLlU6N",
        "ydUEd9cdoYLj",
        "yYjrMrQTl8tq",
        "wAoQi7QvwG0r",
        "rGHyPYV-wwSQ",
        "nYc66x_ZzVkL",
        "XCMiRE2gAKuO",
        "1yDYBHtu4m1y",
        "OmbRQzI65SMY",
        "ynGsJOnO57VA"
      ],
      "toc_visible": true,
      "include_colab_link": true
    },
    "kernelspec": {
      "name": "python3",
      "display_name": "Python 3"
    }
  },
  "cells": [
    {
      "cell_type": "markdown",
      "metadata": {
        "id": "view-in-github",
        "colab_type": "text"
      },
      "source": [
        "<a href=\"https://colab.research.google.com/github/yatowoo/QuTip-learning/blob/main/Tutorial_QS_and_QC_with_atomic_Qubits.ipynb\" target=\"_parent\"><img src=\"https://colab.research.google.com/assets/colab-badge.svg\" alt=\"Open In Colab\"/></a>"
      ]
    },
    {
      "cell_type": "markdown",
      "metadata": {
        "id": "MpeCn3TvPDAq"
      },
      "source": [
        "# $$\\text{Tutorial: Quantum Simulation and computing with atomic qubits}$$\n",
        "\n",
        "\n",
        "Prof. WHITLOCK, S. - Université de Strasbourg\n",
        "\n",
        "[Exotic Quantum Matter Group (**EQM**)](https://eqm.unistra.fr)\n",
        "\n",
        "Jan.  2021\n",
        "\n"
      ]
    },
    {
      "cell_type": "markdown",
      "metadata": {
        "id": "-lUBI3uNpoes"
      },
      "source": [
        "# Preamble "
      ]
    },
    {
      "cell_type": "markdown",
      "metadata": {
        "id": "VEWmHtevS_SD"
      },
      "source": [
        "## Installing packages"
      ]
    },
    {
      "cell_type": "code",
      "metadata": {
        "id": "j6QPgvi4ROnj",
        "outputId": "402a5c79-34d5-4632-dc5a-e31b1f4641e9",
        "colab": {
          "base_uri": "https://localhost:8080/"
        }
      },
      "source": [
        "import time, os, sys\n",
        "\n",
        "try:\n",
        "  import numpy as np\n",
        "except:\n",
        "  !pip install numpy\n",
        "  import numpy as np\n",
        "\n",
        "try:\n",
        "  import scipy as scp\n",
        "  import scipy.stats as stats\n",
        "  from scipy.linalg import expm\n",
        "except:\n",
        "  !pip install scipy== 1.2.1\n",
        "  import scipy as scp\n",
        "  import scipy.stats as stats\n",
        "  from scipy.linalg import expm\n",
        "\n",
        "try:\n",
        "  import sympy as sp\n",
        "  from sympy.physics.quantum import TensorProduct\n",
        "except:\n",
        "  !pip install sympy\n",
        "  import sympy as sp\n",
        "  from sympy.physics.quantum import TensorProduct\n",
        "\n",
        "try:\n",
        "  import matplotlib.pyplot as plt\n",
        "except:\n",
        "  !pip install matplotlib\n",
        "  import matplotlib.pyplot as plt\n",
        "%matplotlib inline\n",
        "\n",
        "try:\n",
        "  import qutip as qt\n",
        "except:\n",
        "  !pip install qutip\n",
        "  import qutip as qt\n",
        "\n",
        "# try:\n",
        "#   import qiskit as qkt\n",
        "# except:\n",
        "#   !pip install qiskit\n",
        "#   import qiskit as qkt\n",
        "\n",
        "import warnings\n",
        "warnings.filterwarnings('ignore')\n",
        "\n",
        "# from IPython.display import display, Math, Latex\n",
        "# display(Math(r'F(k) = \\int_{-\\infty}^{\\infty} f(x) e^{2\\pi i k} dx'))\n",
        "\n"
      ],
      "execution_count": 1,
      "outputs": [
        {
          "output_type": "stream",
          "text": [
            "Collecting qutip\n",
            "\u001b[?25l  Downloading https://files.pythonhosted.org/packages/71/94/c79bd57137320657c3acc8e7a08d3c66dcf9d697e594e945fbc905dfec42/qutip-4.5.2.tar.gz (3.4MB)\n",
            "\u001b[K     |████████████████████████████████| 3.4MB 4.3MB/s \n",
            "\u001b[?25h  Installing build dependencies ... \u001b[?25l\u001b[?25hdone\n",
            "  Getting requirements to build wheel ... \u001b[?25l\u001b[?25hdone\n",
            "    Preparing wheel metadata ... \u001b[?25l\u001b[?25hdone\n",
            "Requirement already satisfied: scipy>=1.0 in /usr/local/lib/python3.6/dist-packages (from qutip) (1.4.1)\n",
            "Requirement already satisfied: numpy>=1.12 in /usr/local/lib/python3.6/dist-packages (from qutip) (1.19.5)\n",
            "Requirement already satisfied: cython>=0.21 in /usr/local/lib/python3.6/dist-packages (from qutip) (0.29.21)\n",
            "Building wheels for collected packages: qutip\n",
            "  Building wheel for qutip (PEP 517) ... \u001b[?25l\u001b[?25hdone\n",
            "  Created wheel for qutip: filename=qutip-4.5.2-cp36-cp36m-linux_x86_64.whl size=12466423 sha256=0ba9d386efcbb5f0018c799990cefb2b4f09988ca95f162da6d672e6b8d6d4e8\n",
            "  Stored in directory: /root/.cache/pip/wheels/ae/90/e9/f26fdecfb6c0e9d9d6f5fa564d16d26ff2bdfd8ad6e7a8a28a\n",
            "Successfully built qutip\n",
            "Installing collected packages: qutip\n",
            "Successfully installed qutip-4.5.2\n"
          ],
          "name": "stdout"
        }
      ]
    },
    {
      "cell_type": "markdown",
      "metadata": {
        "id": "wiklS8hrTFnw"
      },
      "source": [
        "## Quick start"
      ]
    },
    {
      "cell_type": "code",
      "metadata": {
        "id": "MbV_Hid3RRTG"
      },
      "source": [
        "qubit_0 = qt.basis(2, 0) #|q0> = |0>\n",
        "qubit_1 = qt.basis(2, 1) #|q2> = |1>\n",
        "qubit_2 = qt.basis(2, 1) #|q3> = |1>\n",
        "qubit_3 = qt.basis(2, 0) #|q4> = |0>\n",
        "\n",
        "Xgate = qt.sigmax() # Pauli X gate"
      ],
      "execution_count": 7,
      "outputs": []
    },
    {
      "cell_type": "code",
      "metadata": {
        "colab": {
          "base_uri": "https://localhost:8080/"
        },
        "id": "eq_L_RcQUKbs",
        "outputId": "1fa868c2-f173-476e-db42-5e27315ab66f"
      },
      "source": [
        "qubit_0.full"
      ],
      "execution_count": 8,
      "outputs": [
        {
          "output_type": "execute_result",
          "data": {
            "text/plain": [
              "<bound method Qobj.full of Quantum object: dims = [[2], [1]], shape = (2, 1), type = ket\n",
              "Qobj data =\n",
              "[[1.]\n",
              " [0.]]>"
            ]
          },
          "metadata": {
            "tags": []
          },
          "execution_count": 8
        }
      ]
    },
    {
      "cell_type": "code",
      "metadata": {
        "colab": {
          "base_uri": "https://localhost:8080/",
          "height": 391
        },
        "id": "IFtmzmSRR3hQ",
        "outputId": "6e0b6e6c-bece-4736-aa7f-c104e9984611"
      },
      "source": [
        "flip_qubit_1 = Xgate*qubit_1\n",
        "\n",
        "b = qt.Bloch()\n",
        "b.add_states(flip_qubit_1) #flipped qubit1 (yellow)\n",
        "b.add_states(qubit_1) #qubit 1 (green)\n",
        "b.show()"
      ],
      "execution_count": 9,
      "outputs": [
        {
          "output_type": "display_data",
          "data": {
            "image/png": "[encoded data removed]",
            "text/plain": [
              "<Figure size 360x360 with 1 Axes>"
            ]
          },
          "metadata": {
            "tags": []
          }
        }
      ]
    },
    {
      "cell_type": "code",
      "metadata": {
        "id": "FzxQ6AuHThhZ",
        "outputId": "ceca32c8-6bbf-4933-e364-9178c18086f8",
        "colab": {
          "base_uri": "https://localhost:8080/",
          "height": 258
        }
      },
      "source": [
        "from qutip.ipynbtools import version_table\n",
        "version_table()"
      ],
      "execution_count": 5,
      "outputs": [
        {
          "output_type": "execute_result",
          "data": {
            "text/html": [
              "<table><tr><th>Software</th><th>Version</th></tr><tr><td>QuTiP</td><td>4.5.2</td></tr><tr><td>Numpy</td><td>1.19.5</td></tr><tr><td>SciPy</td><td>1.4.1</td></tr><tr><td>matplotlib</td><td>3.2.2</td></tr><tr><td>Cython</td><td>0.29.21</td></tr><tr><td>Number of CPUs</td><td>1</td></tr><tr><td>BLAS Info</td><td>OPENBLAS</td></tr><tr><td>IPython</td><td>5.5.0</td></tr><tr><td>Python</td><td>3.6.9 (default, Oct  8 2020, 12:12:24) \n",
              "[GCC 8.4.0]</td></tr><tr><td>OS</td><td>posix [linux]</td></tr><tr><td colspan='2'>Mon Jan 18 16:22:52 2021 UTC</td></tr></table>"
            ],
            "text/plain": [
              "<IPython.core.display.HTML object>"
            ]
          },
          "metadata": {
            "tags": []
          },
          "execution_count": 5
        }
      ]
    },
    {
      "cell_type": "markdown",
      "metadata": {
        "id": "ZbLLlUKwpx98"
      },
      "source": [
        "# Tutorial"
      ]
    },
    {
      "cell_type": "markdown",
      "metadata": {
        "id": "yPgUXC7bp61m"
      },
      "source": [
        "## **0. Initialization cells [run first]** \n",
        "### Installs required Python packages. Takes about 5 minutes to run on first use"
      ]
    },
    {
      "cell_type": "markdown",
      "metadata": {
        "id": "RJNMTNnRqAWl"
      },
      "source": [
        "### Python packages"
      ]
    },
    {
      "cell_type": "code",
      "metadata": {
        "id": "sE5I0U92pzjX"
      },
      "source": [
        "import time, os, sys\n",
        "\n",
        "try:\n",
        "  import numpy as np\n",
        "except:\n",
        "  !pip install numpy\n",
        "  import numpy as np\n",
        "\n",
        "try:\n",
        "  import scipy as scp\n",
        "  import scipy.stats as stats\n",
        "  from scipy.linalg import expm\n",
        "except:\n",
        "  !pip install scipy== 1.2.1\n",
        "  import scipy as scp\n",
        "  import scipy.stats as stats\n",
        "  from scipy.linalg import expm\n",
        "\n",
        "try:\n",
        "  import sympy as sp\n",
        "  from sympy.physics.quantum import TensorProduct\n",
        "except:\n",
        "  !pip install sympy\n",
        "  import sympy as sp\n",
        "  from sympy.physics.quantum import TensorProduct\n",
        "\n",
        "try:\n",
        "  import matplotlib.pyplot as plt\n",
        "except:\n",
        "  !pip install matplotlib\n",
        "  import matplotlib.pyplot as plt\n",
        "%matplotlib inline\n",
        "\n",
        "try:\n",
        "  import qutip as qt\n",
        "except:\n",
        "  !pip install qutip\n",
        "  import qutip as qt\n",
        "\n",
        "import warnings\n",
        "warnings.filterwarnings('ignore')"
      ],
      "execution_count": 11,
      "outputs": []
    },
    {
      "cell_type": "markdown",
      "metadata": {
        "id": "5iHpwmBWqLPd"
      },
      "source": [
        "### Useful functions"
      ]
    },
    {
      "cell_type": "code",
      "metadata": {
        "id": "jHLfvazCqRkt"
      },
      "source": [
        "# nicer way to print arrays\n",
        "def matprint(qobj, fmt=\"g\"):\n",
        "    mat = qobj.full()\n",
        "    col_maxes = [max([len((\"{:\"+fmt+\"}\").format(x)) for x in col]) for col in mat.T]\n",
        "    for x in mat:\n",
        "        for i, y in enumerate(x):\n",
        "            print((\"{:\"+str(col_maxes[i])+fmt+\"}\").format(y), end=\"  \")\n",
        "        print(\"\")"
      ],
      "execution_count": 12,
      "outputs": []
    },
    {
      "cell_type": "markdown",
      "metadata": {
        "id": "aConIkDHqhLF"
      },
      "source": [
        "##**A. Short Python and Numpy Tutorial**\n",
        "P.D. Nation and J.R. Johansson\n",
        "\n",
        "**adapted for this course by S. Whitlock**\n",
        "\n",
        "Original version and more tutorials : http://qutip.org/tutorials.html"
      ]
    },
    {
      "cell_type": "markdown",
      "metadata": {
        "id": "t5eHB6P1qvC9"
      },
      "source": [
        "###A.1. Using Python For Simple Calculations"
      ]
    },
    {
      "cell_type": "markdown",
      "metadata": {
        "id": "5YbUXm0QqxVY"
      },
      "source": [
        "As a first step, lets try to use the interactive Python command line tool **iPython** as a basic calculator.  Addition, subtraction, and multiplication, all work in the same way as you would write the equations down on paper"
      ]
    },
    {
      "cell_type": "code",
      "metadata": {
        "id": "-tvZGVhCqjMG",
        "outputId": "452b45f3-0f82-4fdd-e85f-7025ee848fb3",
        "colab": {
          "base_uri": "https://localhost:8080/"
        }
      },
      "source": [
        "10+5"
      ],
      "execution_count": 13,
      "outputs": [
        {
          "output_type": "execute_result",
          "data": {
            "text/plain": [
              "15"
            ]
          },
          "metadata": {
            "tags": []
          },
          "execution_count": 13
        }
      ]
    },
    {
      "cell_type": "code",
      "metadata": {
        "id": "sH62SmuBq3Fp"
      },
      "source": [
        "10-157"
      ],
      "execution_count": null,
      "outputs": []
    },
    {
      "cell_type": "code",
      "metadata": {
        "id": "fF6GrFAtq4-l"
      },
      "source": [
        "4/3"
      ],
      "execution_count": null,
      "outputs": []
    },
    {
      "cell_type": "code",
      "metadata": {
        "id": "S8gglYjWq6hs"
      },
      "source": [
        "(50-4)*10/5"
      ],
      "execution_count": null,
      "outputs": []
    },
    {
      "cell_type": "markdown",
      "metadata": {
        "id": "NC90NtZnrDRf"
      },
      "source": [
        "However, things like raising a number to a power, $4^{4}$, are written differently."
      ]
    },
    {
      "cell_type": "code",
      "metadata": {
        "id": "cko3wGaFq70z"
      },
      "source": [
        "4**4"
      ],
      "execution_count": null,
      "outputs": []
    },
    {
      "cell_type": "markdown",
      "metadata": {
        "id": "A3Ayc2LVrISu"
      },
      "source": [
        "We could also express this in the mathematically equivalent way as $4^{4.0}$.  However, inside of the computer, the result is not treated the same as the above answer."
      ]
    },
    {
      "cell_type": "code",
      "metadata": {
        "id": "1pEDYmocrK4d"
      },
      "source": [
        "4**4.0"
      ],
      "execution_count": null,
      "outputs": []
    },
    {
      "cell_type": "markdown",
      "metadata": {
        "id": "TEEpbKTXrQNP"
      },
      "source": [
        "###A.2. Integers vs. Floating Point Numbers"
      ]
    },
    {
      "cell_type": "markdown",
      "metadata": {
        "id": "6Kn-SkIurnrU"
      },
      "source": [
        "All information stored in a computer must be represented in a binary format consisting of zeros and ones (e.g. $461\\rightarrow 111001101$).  Each zero or one is called a **bit**, and given $N$ bits, one can store all of the integers in the range $[0,2^{N-1}]$, where the $-1$ is due to the fact that the first bit is reserved for defining if a number is positive or negative   \n",
        "\n",
        "However, given a fixed number of bits, it is impossible to store an arbitrary number exactly.  Therefore, if one is given a random number, unless the number is exactly divisible by a factor of two, the conversion between the random number and the binary bit representation ultimately leads to a loss of precision, and what is known as **roundoff error**.\n"
      ]
    },
    {
      "cell_type": "markdown",
      "metadata": {
        "id": "vb51Hl5Irp5H"
      },
      "source": [
        "When dealing with numbers inside a computer there are two distinct types of numbers to consider:\n",
        "\n",
        "\n",
        "- **Integers** - (1,2,4,-586,..) Are what are called **fixed-point numbers**, where the term fixed-point means that there is a fixed number of decimal places in the number (zero for integers).  These numbers can be stored exactly in a computer.\n",
        "\n",
        "\n",
        "- **Doubles/Floats** - (3.141,0.21,-0.1,..) These are **floating-point numbers** that are the binary equivalent to scientific notation $c=2.99792458\\times 10^{8}$.  Doubles (also called double-precision numbers) are floating point numbers that are written using 64-bits and, in general, are only accurate to the 15th or 16th decimal place.  Floats (or single-precision numbers) use 32-bits, and are good to 6-7 decimal places.  **Serious scientific calculations always require a combination of integers and double (64-bit) numbers**."
      ]
    },
    {
      "cell_type": "code",
      "metadata": {
        "id": "B8mK4l_6rSd0"
      },
      "source": [
        "7+0.000000000000001"
      ],
      "execution_count": null,
      "outputs": []
    },
    {
      "cell_type": "code",
      "metadata": {
        "id": "9hlpdUVirt3V"
      },
      "source": [
        "7+0.0000000000000001"
      ],
      "execution_count": null,
      "outputs": []
    },
    {
      "cell_type": "code",
      "metadata": {
        "id": "69OKNmxPrwkv"
      },
      "source": [
        "0.1+0.2"
      ],
      "execution_count": null,
      "outputs": []
    },
    {
      "cell_type": "markdown",
      "metadata": {
        "id": "FKBcnsjtrxzo"
      },
      "source": [
        "This last example clearly highlights the fact that the computer does not store decimal (floating-point) numbers exactly.  The loss of precision in floating-point numbers can be characterized by the **machine precision**, $\\epsilon_{\\rm m}$, that is defined to be the smallest positive number such that \n",
        "\n",
        "$$1_{\\rm c}+\\epsilon_{\\rm m}\\neq 1_{\\rm c}$$\n",
        "\n",
        "where the subscript on $1_{\\rm c}$ is meant to remind you that this is a computer number.  Therefore, for any arbitrary number $N$ is related to its floating-point equivalent $N_{\\rm c}$ by\n",
        "\n",
        "$$N_{\\rm c}=N\\pm \\epsilon, \\ \\ \\forall~|\\epsilon|< \\epsilon_{\\rm m}.$$\n",
        "\n",
        "**Take Home Message** - All double-precision decimal numbers that are not factors of two will have error in the 15th decimal place.  This can lead to errors in your numerical solutions if you are not careful."
      ]
    },
    {
      "cell_type": "markdown",
      "metadata": {
        "id": "KpaxFJmgr0li"
      },
      "source": [
        "###A.3. Making Python Smarter Using NumPy"
      ]
    },
    {
      "cell_type": "markdown",
      "metadata": {
        "id": "SLNsZM4Or5j8"
      },
      "source": [
        "Python itself as limited support for mathematics outside of simple arithmetic.  Therefore, we will use the functions in the NumPy module to do more impressive, and faster, calculations.  To load many, but not all, of the functions in NumPy we run the following command"
      ]
    },
    {
      "cell_type": "code",
      "metadata": {
        "id": "Kb-_T4g5rye1"
      },
      "source": [
        "from numpy import *"
      ],
      "execution_count": null,
      "outputs": []
    },
    {
      "cell_type": "markdown",
      "metadata": {
        "id": "TkOtDvpisD98"
      },
      "source": [
        "Here we are asking Python to get all of the basic functions (this is what * means) from the NumPy module.  We can now do more impressive calculations:"
      ]
    },
    {
      "cell_type": "code",
      "metadata": {
        "id": "D8wIhzt-sFDc"
      },
      "source": [
        "exp(2.34)"
      ],
      "execution_count": null,
      "outputs": []
    },
    {
      "cell_type": "code",
      "metadata": {
        "id": "emniPLAMsHOo"
      },
      "source": [
        "sqrt(5)"
      ],
      "execution_count": null,
      "outputs": []
    },
    {
      "cell_type": "code",
      "metadata": {
        "id": "qm_inO0GsIc4"
      },
      "source": [
        "sinc(0.5)"
      ],
      "execution_count": null,
      "outputs": []
    },
    {
      "cell_type": "markdown",
      "metadata": {
        "id": "XITaqhnasMpp"
      },
      "source": [
        "###A.4. Variables"
      ]
    },
    {
      "cell_type": "markdown",
      "metadata": {
        "id": "hbqufxdosPgO"
      },
      "source": [
        "If we want to be able to store the numbers and results from our calculations then we must define variables using the \"=\" sign:"
      ]
    },
    {
      "cell_type": "code",
      "metadata": {
        "id": "U3nxdFYXsQPz"
      },
      "source": [
        "radius=5\n",
        "area=pi*radius**2\n",
        "area"
      ],
      "execution_count": null,
      "outputs": []
    },
    {
      "cell_type": "markdown",
      "metadata": {
        "id": "Bj1l5CSZsTTG"
      },
      "source": [
        "We see that our variables name is defined on the left of the ```=``` sign and the value its given is defined on the right.  Here we have also used the ```pi``` variable that has been predefined by NumPy.  Variables can then be used in other expressions.  \n",
        "\n",
        "If a predefined variable is again used on the left side of ```=``` then its original value is replaced."
      ]
    },
    {
      "cell_type": "code",
      "metadata": {
        "id": "vWd9tR6lsU1O"
      },
      "source": [
        "x=10\n",
        "x=(x**2+25)/10\n",
        "x"
      ],
      "execution_count": null,
      "outputs": []
    },
    {
      "cell_type": "markdown",
      "metadata": {
        "id": "XEG0SM36sYVV"
      },
      "source": [
        "This is different than the mathematical equation $10x=x^{2}+25$  which has the solution $x=5$.  Therefore, it is important to remember that the ```=``` sign in a computer program is **not** equivalent to the mathematical equality. "
      ]
    },
    {
      "cell_type": "markdown",
      "metadata": {
        "id": "FMzc7wnjsZ90"
      },
      "source": [
        "What happens if you try to use a variable without first defining it?  Lets try it:"
      ]
    },
    {
      "cell_type": "code",
      "metadata": {
        "id": "vgJZIrMpsbTe"
      },
      "source": [
        "weight"
      ],
      "execution_count": null,
      "outputs": []
    },
    {
      "cell_type": "markdown",
      "metadata": {
        "id": "MZpw-IJ1sdJH"
      },
      "source": [
        "Python gives us an error that \"weight\" is not defined.  In addition, there are several words that are reserved by the Python language and cannot be used as variables:\n",
        "\n",
        "    and, as, assert, break, class, continue, def, del, elif, else, except, \n",
        "    exec, finally, for, from, global, if, import, in, is, lambda, not, or,\n",
        "    pass, print, raise, return, try, while, with, yield\n",
        "    \n",
        "Other than the above reserved words, your variables can be anything that starts with a letter or the underscore character \"$\\_$\" preceded by any combination of alphanumeric characters and \"$\\_$\".  Note that using upper or lower case letters will give you two different variables."
      ]
    },
    {
      "cell_type": "code",
      "metadata": {
        "id": "e4TtKHO-se4J"
      },
      "source": [
        "_freq = 8\n",
        "Oscillator_Energy = 10\n",
        "_freq*Oscillator_Energy"
      ],
      "execution_count": null,
      "outputs": []
    },
    {
      "cell_type": "markdown",
      "metadata": {
        "id": "xFB47pNAshU0"
      },
      "source": [
        "####Some Rules About Variables"
      ]
    },
    {
      "cell_type": "markdown",
      "metadata": {
        "id": "70RqUaTksj8c"
      },
      "source": [
        "Although there are many ways to define variables in Python, it is best to try to define your variables in all the same way.  In this class, all of our variables will use only lower case characters. \n"
      ]
    },
    {
      "cell_type": "code",
      "metadata": {
        "id": "Xz27XBB6skOG"
      },
      "source": [
        "speed_of_light = 2.9979*10**8\n",
        "spring_constant = sqrt(2/5)"
      ],
      "execution_count": null,
      "outputs": []
    },
    {
      "cell_type": "markdown",
      "metadata": {
        "id": "hPF0u59wsleH"
      },
      "source": [
        "It is also good practice to use variable names that correspond to the physical quantity that the variable represents."
      ]
    },
    {
      "cell_type": "markdown",
      "metadata": {
        "id": "d7H9JY_Ks1oq"
      },
      "source": [
        "###A.5. Strings"
      ]
    },
    {
      "cell_type": "markdown",
      "metadata": {
        "id": "w2ByqAhBs3gM"
      },
      "source": [
        "Often times we want to print some text along with our variables, ask the user for input, or actually use the words and letters themselves as variables (e.g. in DNA analysis).  All of these can be accomplished using **strings**.  We have already seen one string already in this class: "
      ]
    },
    {
      "cell_type": "code",
      "metadata": {
        "id": "wk1ek-RCs4Pn"
      },
      "source": [
        "'Hello Class'"
      ],
      "execution_count": null,
      "outputs": []
    },
    {
      "cell_type": "markdown",
      "metadata": {
        "id": "7Ynd_Km5s67x"
      },
      "source": [
        "If we want to use the quote symbol in the string itself then we need to mix the two types "
      ]
    },
    {
      "cell_type": "code",
      "metadata": {
        "id": "ihS-G0wts6dV"
      },
      "source": [
        "\"How was Hwajung's birthday party?\""
      ],
      "execution_count": null,
      "outputs": []
    },
    {
      "cell_type": "markdown",
      "metadata": {
        "id": "dolk0a9ts5-k"
      },
      "source": [
        "Just like we did with integers and doubles, we can assign a string to a variable, and we can even add two strings together."
      ]
    },
    {
      "cell_type": "code",
      "metadata": {
        "id": "I3MTmOFHs5uS"
      },
      "source": [
        "a = \"I like \" # There is a blank space at the end of this string.\n",
        "b = \"chicken and HOF\"\n",
        "a+b"
      ],
      "execution_count": null,
      "outputs": []
    },
    {
      "cell_type": "markdown",
      "metadata": {
        "id": "yTq-AC0LtKh6"
      },
      "source": [
        "Notice the blank space at the end of the string in variable \"a\" provides spacing between \"like\" and \"chicken\"."
      ]
    },
    {
      "cell_type": "markdown",
      "metadata": {
        "id": "7exSJOMGs5Jy"
      },
      "source": [
        "If we want to print out stuff, including strings and integers or doubles together, then we can use the builtin ```print``` function to accomplish this"
      ]
    },
    {
      "cell_type": "code",
      "metadata": {
        "id": "CIkNUvtPtHFG"
      },
      "source": [
        "temp=23\n",
        "text=\"The temperature right now is\"\n",
        "print(text,temp)"
      ],
      "execution_count": null,
      "outputs": []
    },
    {
      "cell_type": "markdown",
      "metadata": {
        "id": "QsSP4roytRi6"
      },
      "source": [
        "Notice how the print function automatically puts a space between the the two input arguments.  The ```print``` function automatically takes any number of string, integer, double, or other variables, converts them into strings, and then prints them for the user."
      ]
    },
    {
      "cell_type": "markdown",
      "metadata": {
        "id": "gvrY0SOUuPem"
      },
      "source": [
        "###A.6. Lists"
      ]
    },
    {
      "cell_type": "markdown",
      "metadata": {
        "id": "pl68ES8MuSSN"
      },
      "source": [
        "Often times we will want to group many variables together into one object.  In Python this is accomplished by using a **```list```** datatype variable."
      ]
    },
    {
      "cell_type": "code",
      "metadata": {
        "id": "h1CTXAgfuQ1x"
      },
      "source": [
        "shopping_list=['eggs', 'bread', 'milk', 'bananas']"
      ],
      "execution_count": null,
      "outputs": []
    },
    {
      "cell_type": "markdown",
      "metadata": {
        "id": "Nru8AETsuUqZ"
      },
      "source": [
        "If we want to access a single variable inside of the list, then we need to use the **index** that corresponds to the variable inside of square brackets."
      ]
    },
    {
      "cell_type": "code",
      "metadata": {
        "id": "S8Q4_O_suX9_"
      },
      "source": [
        "shopping_list[2]"
      ],
      "execution_count": null,
      "outputs": []
    },
    {
      "cell_type": "markdown",
      "metadata": {
        "id": "bgGyhqYNuYU1"
      },
      "source": [
        "We see that the \"milk\" string can be accessed using the index number $2$.  However, we can see that this variable is actually the third string in the list.  This discrepancy is due to the fact that Python (like C-code) considers the first element in a list, or other multivariable data structures, to be at index $0$."
      ]
    },
    {
      "cell_type": "code",
      "metadata": {
        "id": "_bEekhaUuckV"
      },
      "source": [
        "shopping_list[0]"
      ],
      "execution_count": null,
      "outputs": []
    },
    {
      "cell_type": "markdown",
      "metadata": {
        "id": "GH_uSqNM5teG"
      },
      "source": [
        "This is important to remember, and will take some getting used to before it becomes natural.  If we want to access the elements of the list from back to front, we can use negative indices"
      ]
    },
    {
      "cell_type": "code",
      "metadata": {
        "id": "1WzT0yCq5teH"
      },
      "source": [
        "shopping_list[-1]"
      ],
      "execution_count": null,
      "outputs": []
    },
    {
      "cell_type": "code",
      "metadata": {
        "id": "qWB_ghOf5teJ"
      },
      "source": [
        "shopping_list[-2]"
      ],
      "execution_count": null,
      "outputs": []
    },
    {
      "cell_type": "markdown",
      "metadata": {
        "id": "KGbOxPTG5teM"
      },
      "source": [
        "If we are given a list variable and we want to known how many elements are inside of the list, then we can use the ```len``` function that returns an integer giving the length of the list."
      ]
    },
    {
      "cell_type": "code",
      "metadata": {
        "id": "T1GUmBto5teN"
      },
      "source": [
        "len(shopping_list)"
      ],
      "execution_count": null,
      "outputs": []
    },
    {
      "cell_type": "markdown",
      "metadata": {
        "id": "RMAo77-C5teP"
      },
      "source": [
        "If we want to change the length of the list by adding or removing elements, then we can use ```append``` and ```remove```, respectively."
      ]
    },
    {
      "cell_type": "code",
      "metadata": {
        "id": "KT-j0k495teQ"
      },
      "source": [
        "shopping_list.append('apples')\n",
        "shopping_list"
      ],
      "execution_count": null,
      "outputs": []
    },
    {
      "cell_type": "code",
      "metadata": {
        "id": "J9elpnlG5teT"
      },
      "source": [
        "shopping_list.remove('bread')\n",
        "shopping_list"
      ],
      "execution_count": null,
      "outputs": []
    },
    {
      "cell_type": "markdown",
      "metadata": {
        "id": "EpvYW0cD5teV"
      },
      "source": [
        "Note that lists to not have to have the same type of data in each element!  You can mix any data types you want."
      ]
    },
    {
      "cell_type": "code",
      "metadata": {
        "id": "2YmRMyDX5teX"
      },
      "source": [
        "various_things=[1, \"hello\", -1.234, [-1, -2, -3]]\n",
        "various_things"
      ],
      "execution_count": null,
      "outputs": []
    },
    {
      "cell_type": "markdown",
      "metadata": {
        "id": "a4180Rw15teZ"
      },
      "source": [
        "All of these elements can be accessed in the usual way"
      ]
    },
    {
      "cell_type": "code",
      "metadata": {
        "id": "mkstG02A5tec"
      },
      "source": [
        "various_things[0]"
      ],
      "execution_count": null,
      "outputs": []
    },
    {
      "cell_type": "code",
      "metadata": {
        "id": "Nsa7NgCe5ted"
      },
      "source": [
        "various_things[-1]"
      ],
      "execution_count": null,
      "outputs": []
    },
    {
      "cell_type": "code",
      "metadata": {
        "id": "747DAB3R5teg"
      },
      "source": [
        "various_things[3][1]"
      ],
      "execution_count": null,
      "outputs": []
    },
    {
      "cell_type": "markdown",
      "metadata": {
        "id": "SliXrZor5teh"
      },
      "source": [
        "###A.7. Iterating Through Lists and Python Indention Rules"
      ]
    },
    {
      "cell_type": "markdown",
      "metadata": {
        "id": "AsImOgZ45tej"
      },
      "source": [
        "One of the most important reasons for using lists is because one often wants to do the same type of manipulation on each of the elements one at a time.  Going through a list in this fashion is called **iteration** and is accomplished in Python using the ```for``` command: "
      ]
    },
    {
      "cell_type": "code",
      "metadata": {
        "id": "Tq8P7A9d5tel"
      },
      "source": [
        "items=['four calling birds', 'three french hens', \n",
        "        'two turtle doves', 'a partridge in a pear tree']\n",
        "for thing in items:\n",
        "    print(thing)"
      ],
      "execution_count": null,
      "outputs": []
    },
    {
      "cell_type": "markdown",
      "metadata": {
        "id": "JaoArBXc5teo"
      },
      "source": [
        "Here, \"thing\" is a variable that takes the value of each item in the list \"items\" and then gets sent to the ```print``` function.  We are free to call this variable anything we want.  "
      ]
    },
    {
      "cell_type": "code",
      "metadata": {
        "id": "zrjqPsd95teq"
      },
      "source": [
        "for variable in items:\n",
        "    print(variable)"
      ],
      "execution_count": null,
      "outputs": []
    },
    {
      "cell_type": "markdown",
      "metadata": {
        "id": "M7KXBGnT5ter"
      },
      "source": [
        "The next important thing to notice is that after the colon \":\" the print statement is indented.  This indention after a colon is required in the Python programming langage and represents a section of the code called a **block**.  If we did not intent the print function then Python would yell at us. "
      ]
    },
    {
      "cell_type": "code",
      "metadata": {
        "id": "gJ3o2pLR5tev"
      },
      "source": [
        "for variable in items:\n",
        "print(variable)"
      ],
      "execution_count": null,
      "outputs": []
    },
    {
      "cell_type": "markdown",
      "metadata": {
        "id": "eR2p5UeR5tey"
      },
      "source": [
        "Blocks are a standard part of any programming language and are used for organization and flow-control in computer code.  Anything that is indented in the above example will be run for each item in the list"
      ]
    },
    {
      "cell_type": "code",
      "metadata": {
        "id": "H5hfJSHa5te1"
      },
      "source": [
        "for variable in items:\n",
        "    print(\"My true love gave to me\", variable)"
      ],
      "execution_count": null,
      "outputs": []
    },
    {
      "cell_type": "markdown",
      "metadata": {
        "id": "OVjjWhkt5te4"
      },
      "source": [
        "###A.8. Slicing Lists"
      ]
    },
    {
      "cell_type": "markdown",
      "metadata": {
        "id": "sQzozkMl5te6"
      },
      "source": [
        "If we want to grab certain elements from a list we can make use of **slicing** to conveniently access the elements.  Slicing can be used on any **sequence** such as lists, strings, and as we will see shortly, arrays. Consider our ```shopping_list``` list:"
      ]
    },
    {
      "cell_type": "code",
      "metadata": {
        "id": "676cpSex5te7"
      },
      "source": [
        "shopping_list=['eggs', 'bread', 'milk', 'bananas', 'apples']"
      ],
      "execution_count": null,
      "outputs": []
    },
    {
      "cell_type": "markdown",
      "metadata": {
        "id": "sVNk1eYO5te9"
      },
      "source": [
        "To get the first element we used a single index"
      ]
    },
    {
      "cell_type": "code",
      "metadata": {
        "id": "xSEalRjn5te-"
      },
      "source": [
        "shopping_list[0]"
      ],
      "execution_count": null,
      "outputs": []
    },
    {
      "cell_type": "markdown",
      "metadata": {
        "id": "C6RmXeEv5tfA"
      },
      "source": [
        "But if we want to get the first three elements in the list we can use: "
      ]
    },
    {
      "cell_type": "code",
      "metadata": {
        "id": "2UVkoJPH5tfB"
      },
      "source": [
        "shopping_list[0:3]"
      ],
      "execution_count": null,
      "outputs": []
    },
    {
      "cell_type": "markdown",
      "metadata": {
        "id": "y5ZR9Uuq5tfC"
      },
      "source": [
        "We could also grab the last two elements using:"
      ]
    },
    {
      "cell_type": "code",
      "metadata": {
        "id": "-LC5Wfz95tfE"
      },
      "source": [
        "shopping_list[-2:]"
      ],
      "execution_count": null,
      "outputs": []
    },
    {
      "cell_type": "markdown",
      "metadata": {
        "id": "rQrbrY695tfG"
      },
      "source": [
        "Or, we can get even more complex and grab all of the even number elements by using a third argument in the brackets that tells use the step size:"
      ]
    },
    {
      "cell_type": "code",
      "metadata": {
        "id": "oVNfz9Kf5tfI"
      },
      "source": [
        "shopping_list[0::2]"
      ],
      "execution_count": null,
      "outputs": []
    },
    {
      "cell_type": "markdown",
      "metadata": {
        "id": "W8Uaou0o5tfL"
      },
      "source": [
        "###A.9. Conditional Statements"
      ]
    },
    {
      "cell_type": "markdown",
      "metadata": {
        "id": "_ZAXg0WQ5tfM"
      },
      "source": [
        "We have now seen a collection of data types (integers, doubles/floats, lists, strings) but we have yet to discuss how to compare two different variables.  For example, how do we check if two different integers $a$ and $b$ are equal?  Or how do we know if $a\\ge b$?  This is accomplished using **conditional statements**.  The basic operations in boolean logic are \"equal\" (```==```), \"not equal\" (```!=```), \"greater than\" (```>```), \"greater than or equal\" (```>=```), \"less than\" (```<```), and \"less than or equal\" (```<=```).  All of these conditionals operate on two variables and return a simple boolean ```True``` or ```False``` answer.  For example"
      ]
    },
    {
      "cell_type": "code",
      "metadata": {
        "id": "ww2eXIn85tfO"
      },
      "source": [
        "a=5 ; b=8\n",
        "a>b"
      ],
      "execution_count": null,
      "outputs": []
    },
    {
      "cell_type": "code",
      "metadata": {
        "id": "2EFyLSNE5tfQ"
      },
      "source": [
        "c=0\n",
        "c<=0,c>=0"
      ],
      "execution_count": null,
      "outputs": []
    },
    {
      "cell_type": "code",
      "metadata": {
        "id": "dFGTXStE5tfU"
      },
      "source": [
        "a=5;b=6\n",
        "a==b,a!=b"
      ],
      "execution_count": null,
      "outputs": []
    },
    {
      "cell_type": "markdown",
      "metadata": {
        "id": "cFSrssAK5tfa"
      },
      "source": [
        "It is important to point out that in Python ```1``` and ```0``` are the same as ```True``` and ```False```, respectively."
      ]
    },
    {
      "cell_type": "code",
      "metadata": {
        "id": "HcuN_ngj5tfd"
      },
      "source": [
        "True==1,False==0"
      ],
      "execution_count": null,
      "outputs": []
    },
    {
      "cell_type": "markdown",
      "metadata": {
        "id": "nm83WYL45tff"
      },
      "source": [
        "We can also combine multiple conditional statements"
      ]
    },
    {
      "cell_type": "code",
      "metadata": {
        "id": "fBISpWx85tfh"
      },
      "source": [
        "a=-1;b=4;c=10;d=11\n",
        "a<b<c!=d"
      ],
      "execution_count": null,
      "outputs": []
    },
    {
      "cell_type": "markdown",
      "metadata": {
        "id": "wJ-Wdoa85tfi"
      },
      "source": [
        "These operations can also be used on lists and strings:"
      ]
    },
    {
      "cell_type": "code",
      "metadata": {
        "id": "0j1fNAx45tfk"
      },
      "source": [
        "[4,5,6]>=[4,5,7]"
      ],
      "execution_count": null,
      "outputs": []
    },
    {
      "cell_type": "code",
      "metadata": {
        "id": "oB7XQcSw5tfl"
      },
      "source": [
        "[4,5,6]<=[4,5,7]"
      ],
      "execution_count": null,
      "outputs": []
    },
    {
      "cell_type": "code",
      "metadata": {
        "id": "slpR_rcf5tfn"
      },
      "source": [
        "'today'=='Today'"
      ],
      "execution_count": null,
      "outputs": []
    },
    {
      "cell_type": "markdown",
      "metadata": {
        "id": "HdpnvCDK5tfp"
      },
      "source": [
        "####Conditional Statements and Flow Control"
      ]
    },
    {
      "cell_type": "markdown",
      "metadata": {
        "id": "kUuHVkG35tfr"
      },
      "source": [
        "The main purpose of these conditional statements is to control the flow of a Python program.  The result of a conditional statement can be used to control a program using ```if/else``` and ```while``` statements."
      ]
    },
    {
      "cell_type": "code",
      "metadata": {
        "id": "cmsLa9XL5tfs"
      },
      "source": [
        "today='friday'\n",
        "if today=='friday':\n",
        "    print('We have class today :(') # this is a code block\n",
        "else:\n",
        "    print('No class today :)') # this is also a code block"
      ],
      "execution_count": null,
      "outputs": []
    },
    {
      "cell_type": "markdown",
      "metadata": {
        "id": "QgZ9aHNu5tfv"
      },
      "source": [
        "The code block below the ```if``` statement is run only if the conditional ```today=='friday'``` returns ```True```.  If the conditional is ```False``` then the code block inside the ```else``` statement is run.  We can also check multiple conditions by using the ``elif`` statement after ```if```:"
      ]
    },
    {
      "cell_type": "code",
      "metadata": {
        "id": "3Mv22UgL5tfw"
      },
      "source": [
        "today='thursday'\n",
        "if today=='friday':\n",
        "    print('We have class today :(')\n",
        "elif today=='thursday':\n",
        "    print('Our assignment is due today :(')\n",
        "else:\n",
        "    print('No class today :)')"
      ],
      "execution_count": null,
      "outputs": []
    },
    {
      "cell_type": "markdown",
      "metadata": {
        "id": "WlqzpohG5tfy"
      },
      "source": [
        "The other important flow control expression is the **```while``` loop** that executes a block of code repeatedly until the conditional statement at the start of the loop is ```False```."
      ]
    },
    {
      "cell_type": "code",
      "metadata": {
        "id": "C0tsWz7r5tfz"
      },
      "source": [
        "n=0\n",
        "while n<=10: #evaluate code block until n>10\n",
        "    print('The current value of n is:',n)\n",
        "    n=n+1 #increase the value of n by 1"
      ],
      "execution_count": null,
      "outputs": []
    },
    {
      "cell_type": "markdown",
      "metadata": {
        "id": "-jFQ9xSO5tf1"
      },
      "source": [
        "When using a ```while``` loop you must make sure the conditional is not ```True``` forever.  Otherwise your program will be in an **infinite loop** that never ends."
      ]
    },
    {
      "cell_type": "markdown",
      "metadata": {
        "id": "oPvpdKFk5tf2"
      },
      "source": [
        "####Example: Even and Odd Numbers"
      ]
    },
    {
      "cell_type": "markdown",
      "metadata": {
        "id": "qs8jAxtJ5tf4"
      },
      "source": [
        "Let us determine whether a given number between [1,10] is an even or odd number."
      ]
    },
    {
      "cell_type": "code",
      "metadata": {
        "id": "WnuwTzTf5tf5"
      },
      "source": [
        "for n in [1,2,3,4,5,6,7,8,9,10]:\n",
        "    if remainder(n,2)==0:\n",
        "        print(n,'is even')\n",
        "    else:\n",
        "        print(n,'is odd')"
      ],
      "execution_count": null,
      "outputs": []
    },
    {
      "cell_type": "markdown",
      "metadata": {
        "id": "nCkv5XZf5tf7"
      },
      "source": [
        "Typing lists with a long sequence of integers is quite annoying.  Fortunately, Python has a builtin function called ```range``` that makes creating sequences of integers very easy.  For instance, the above example becomes"
      ]
    },
    {
      "cell_type": "code",
      "metadata": {
        "id": "XJVioK9S5tf7"
      },
      "source": [
        "for n in range(1,11):\n",
        "    if remainder(n,2)==0:\n",
        "        print(n,'is even')\n",
        "    else:\n",
        "        print(n,'is odd')"
      ],
      "execution_count": null,
      "outputs": []
    },
    {
      "cell_type": "markdown",
      "metadata": {
        "id": "9RQFXPAj5tf9"
      },
      "source": [
        "Notice how the range function only counts to $10$ even though the range goes to $11$.  The endpoint is *never* part of the generated sequence when using ```range```.  If we wanted the ```range``` function to start at zero instead of one we could simply write ```range(11)```.  We can also make sequences that go in arbitrary steps:"
      ]
    },
    {
      "cell_type": "code",
      "metadata": {
        "id": "zYQ3kZ5R5tf-"
      },
      "source": [
        "for n in range(0,11,2):\n",
        "    print(n)"
      ],
      "execution_count": null,
      "outputs": []
    },
    {
      "cell_type": "markdown",
      "metadata": {
        "id": "UinVgnIp5tgB"
      },
      "source": [
        "The ```range``` function does not return a list of integers but is something called a **generator**.  In general, the ```range``` function should only be used in combination with the ```for``` command."
      ]
    },
    {
      "cell_type": "markdown",
      "metadata": {
        "id": "Mm0LmHPm5tgB"
      },
      "source": [
        "####Example: Fibonacci Sequence"
      ]
    },
    {
      "cell_type": "markdown",
      "metadata": {
        "id": "lWx-LUBt5tgD"
      },
      "source": [
        "Let us follow the Python documentation and calculate the first ten numbers in the Fibonacci sequence:"
      ]
    },
    {
      "cell_type": "code",
      "metadata": {
        "id": "CkjMSQOb5tgE"
      },
      "source": [
        "n = 10\n",
        "fib = [0,1]\n",
        "for i in range(2,n):\n",
        "    fib.append(fib[i-1]+fib[i-2])\n",
        "print(fib)"
      ],
      "execution_count": null,
      "outputs": []
    },
    {
      "cell_type": "markdown",
      "metadata": {
        "id": "WWwjaPv85tgG"
      },
      "source": [
        "We can also write this using a ```while``` loop if we wanted to."
      ]
    },
    {
      "cell_type": "code",
      "metadata": {
        "id": "JSkzxCns5tgH"
      },
      "source": [
        "n = 2\n",
        "fib = [0,1]\n",
        "while n<10:\n",
        "    fib.append(fib[n-1]+fib[n-2])\n",
        "    n = n+1\n",
        "print(fib)"
      ],
      "execution_count": null,
      "outputs": []
    },
    {
      "cell_type": "markdown",
      "metadata": {
        "id": "haB2gy3u5tgJ"
      },
      "source": [
        "###A.10. Writing Scripts and Functions"
      ]
    },
    {
      "cell_type": "markdown",
      "metadata": {
        "id": "xDSLzXt0ULgf"
      },
      "source": [
        "Up until now we have been running little code snippets but have not really been doing any real programming.  Recall that Python is a scripting language.  Therefore, most of the time, we want to write **scripts** that contain a collection of constants, variables, data structures, functions, comments, etc., that perform various complicated tasks. "
      ]
    },
    {
      "cell_type": "markdown",
      "metadata": {
        "id": "hIagS4KHULgh"
      },
      "source": [
        "#### Scripts"
      ]
    },
    {
      "cell_type": "markdown",
      "metadata": {
        "id": "djYJsiD4ULgi"
      },
      "source": [
        "A Python script file is nothing but a text file containing Python code that ends with a **.py** extension.  Python scripts are also called Python **programs**.  If we open up any editor, then we are given a blank window that we can enter our Python commands in."
      ]
    },
    {
      "cell_type": "markdown",
      "metadata": {
        "id": "RTjeaPHwULgj"
      },
      "source": [
        "Before we begin to write our scripts, lets first discuss the best format for writing your scripts."
      ]
    },
    {
      "cell_type": "code",
      "metadata": {
        "id": "Nwk27GzoULgk"
      },
      "source": [
        "# This is an example script for the P461 class\n",
        "# Here we will calculate the series expansion\n",
        "# for sin(x) up to an arbitrary order N.\n",
        "#\n",
        "# Paul Nation, 02/03/2014\n",
        "\n",
        "from numpy import *\n",
        "from scipy.special import factorial\n",
        "\n",
        "N = 5        # The order of the series expansion\n",
        "x = pi/4.    # The point at which we want to evaluate sine\n",
        "\n",
        "ans = 0.0\n",
        "for k in range(N+1):\n",
        "    ans = ans+(-1)**k*x**(1+2*k)/factorial(1+2*k)\n",
        "print(\"Series approximation:\",ans)\n",
        "print(\"Error:\",sin(x)-ans)"
      ],
      "execution_count": null,
      "outputs": []
    },
    {
      "cell_type": "markdown",
      "metadata": {
        "id": "K_-kvsqlULgm"
      },
      "source": [
        "We can see that the script has four main parts: First, we have a section of **comments** that describe what the script does and when it was created.  In python all comments start with the **```#```** symbol.  Everything after this symbol is ignored by the computer.  Second, we have the section of the scripts that load the necessary functions that we need from other packages.  Third is a section where we define all of the constants that are going to be used in the script. You should also add comments here that tell us what the constants are.  Finally, your main body of code goes after these sections."
      ]
    },
    {
      "cell_type": "markdown",
      "metadata": {
        "id": "AjuGPt-GULgn"
      },
      "source": [
        "####Functions"
      ]
    },
    {
      "cell_type": "markdown",
      "metadata": {
        "id": "Oa8UW7FeULgo"
      },
      "source": [
        "We are finally in a position to look at one of the most important parts of any programming language **functions**.  Functions are blocks of code that accomplish a specific task. Functions usually take \"input arguments\", perform operations on these inputs, and then \"return\" one or more results. Functions can be used over and over again, and can also be \"called\" from the inside of other functions.  Let us rewrite our script for $sin(x)$ using a function and then describe each part."
      ]
    },
    {
      "cell_type": "code",
      "metadata": {
        "id": "9sYBccDjULgq"
      },
      "source": [
        "from numpy import *\n",
        "from scipy.special import factorial\n",
        "\n",
        "N=5        # The order of the series expansion\n",
        "x=pi/4.    # The point at which we want to evaluate sine\n",
        "\n",
        "def sine_series(x,N):\n",
        "    ans=0.0\n",
        "    for k in range(N+1):\n",
        "        ans=ans+(-1)**k*x**(1+2*k)/factorial(1+2*k)\n",
        "    return ans\n",
        "\n",
        "result = sine_series(x,N)\n",
        "print(\"Series approximation:\",result)\n",
        "print(\"Error:\",sin(x)-result)"
      ],
      "execution_count": null,
      "outputs": []
    },
    {
      "cell_type": "markdown",
      "metadata": {
        "id": "mgw5ZPsPULgs"
      },
      "source": [
        "We see see that a function is created using the keyword ```def``` which is short \"define\", then the name of the function followed by the input arguments in parentheses.  After the block of code called by the function, the ```return``` keyword specifies what variable(s) and/or data structure(s) are given as the output.  So a general functions call is"
      ]
    },
    {
      "cell_type": "code",
      "metadata": {
        "id": "eu8bN8duULgs"
      },
      "source": [
        "def function_name(arg1,arg2):\n",
        "    \"Block of code to run\"\n",
        "    \"...\"\n",
        "    return result"
      ],
      "execution_count": null,
      "outputs": []
    },
    {
      "cell_type": "markdown",
      "metadata": {
        "id": "Y3H4e4J2ULgt"
      },
      "source": [
        "Again, everything after the colon (:) that is inside the function must be indented.  The beauty of using functions is that we can use the same code over and over, just by changing the constants near the top of our Python script.\n",
        "\n",
        "Variables that are defined inside of a function are called **local variables** and only defined for the block of code inside of the function.  In our previous example, ```k``` was a local variable.  The input arguments and return arguments are *not* local variables.  Once a function is done running, the local variables are erased from memory.  Therefore, if you want get something out of a function, your must return the value when your done."
      ]
    },
    {
      "cell_type": "markdown",
      "metadata": {
        "id": "nwE382mgULgu"
      },
      "source": [
        "If we want to return more than one thing at the end of the function then we just need to separate the different items by a comma."
      ]
    },
    {
      "cell_type": "markdown",
      "metadata": {
        "id": "vXoFhQChULg2"
      },
      "source": [
        "You may often forget what your functions do unless you provide some documentation and comments in your scripts.  Here we will see how to properly document a function in Python by looking at the ```max_dist``` function:"
      ]
    },
    {
      "cell_type": "code",
      "metadata": {
        "id": "1a1kvn4HULg4"
      },
      "source": [
        "def max_dist(xc,yc):\n",
        "    \"\"\"\n",
        "    Finds the maximum distance between any two points\n",
        "    in a collection of 2D points.  The points corresponding \n",
        "    to this distance are also returned.\n",
        "    \n",
        "    Parameters\n",
        "    ----------\n",
        "    xc : list\n",
        "        List of x-coordinates\n",
        "    yc : list\n",
        "        List of y-coordinates\n",
        "    \n",
        "    Returns\n",
        "    -------\n",
        "    max_dist : float\n",
        "        Maximum distance\n",
        "    xvals : list\n",
        "        x-coodinates of two points\n",
        "    yvals : list\n",
        "        y-coordinates of two points\n",
        "    \n",
        "    \"\"\"\n",
        "    max_dist=0.0       #initialize max_dist\n",
        "    num_points=len(xc) #number of points in collection\n",
        "    for ii in range(num_points):\n",
        "        for jj in range(num_points):\n",
        "            dist=dist2d(xc[ii],yc[ii],xc[jj],yc[jj])\n",
        "            if dist>max_dist:\n",
        "                max_dist=dist\n",
        "                xvals=[xc[ii],xc[jj]]\n",
        "                yvals=[yc[ii],yc[jj]]\n",
        "    return max_dist, xvals, yvals"
      ],
      "execution_count": null,
      "outputs": []
    },
    {
      "cell_type": "markdown",
      "metadata": {
        "id": "stew-DDmULg5"
      },
      "source": [
        "Everything inbetween the ```\"\"\"...\"\"\"``` is called a **docstring** and it tells someone who is not familiar with a particular function a detailed explanation as to what the function does, what parameters it takes as inputs, and what values it returns.  It is also good practice to put some comments next to your local variables so the user knows what each of these is for. Although it seems like a lot of work at first, writing docstrings will make you a much better programmer in the future."
      ]
    },
    {
      "cell_type": "markdown",
      "metadata": {
        "id": "5Qju3uMQSppR"
      },
      "source": [
        "### A.11. NumPy Arrays"
      ]
    },
    {
      "cell_type": "markdown",
      "metadata": {
        "id": "qLG8B_leSppV"
      },
      "source": [
        "When dealing with numerical data in Python, nearly 100% of the time one uses arrays from the NumPy module to store and manipulate data.  NumPy arrays are very similar to Python lists, but are actually arrays in c-code that allow for very fast multi-dimensional numerical, vector, matrix, and linear algebra operations.  Using arrays with slicing, and **vectorization** leads to very fast Python code, and can replace many of the for-loops that you would have use if you coded a problem using lists. As a general rule, **minimizing the number of for-loops maximizes the performance of your code**.  To start using arrays, we can start with a simple list and use it as an argument to the array function"
      ]
    },
    {
      "cell_type": "code",
      "metadata": {
        "id": "q5Pc2E1ZSpph"
      },
      "source": [
        "from numpy import *\n",
        "a=array([1,2,3,4,5,6])\n",
        "print(a)"
      ],
      "execution_count": null,
      "outputs": []
    },
    {
      "cell_type": "markdown",
      "metadata": {
        "id": "rX2u5paUSppm"
      },
      "source": [
        "We have now created our first array of integers.  Notice how, when using print, the array looks the same as a list, however it is very much a different data structure.  We can also create an array of floats, complex numbers or even strings"
      ]
    },
    {
      "cell_type": "code",
      "metadata": {
        "id": "FlU_6CP7Sppn"
      },
      "source": [
        "a=array([2.0,4.0,8.0,16.0])\n",
        "b=array([0,1+0j,1+1j,2-2j])\n",
        "c=array(['a','b','c','d'])\n",
        "print(a)\n",
        "print(b)\n",
        "print(c)"
      ],
      "execution_count": null,
      "outputs": []
    },
    {
      "cell_type": "markdown",
      "metadata": {
        "id": "Hp5IFVR6Sppr"
      },
      "source": [
        "In general there are three different ways of creating arrays in Python:\n",
        "\n",
        "- First create a list and then call the array function using the list as an input argument.\n",
        "\n",
        "- Use NumPy functions that are designed to create arrays: **zeros, ones, arange, linspace**.\n",
        "\n",
        "- Import data into Python from file."
      ]
    },
    {
      "cell_type": "markdown",
      "metadata": {
        "id": "h_OTZc1XSppu"
      },
      "source": [
        "####Arrays from Lists"
      ]
    },
    {
      "cell_type": "markdown",
      "metadata": {
        "id": "iKwbMAn3Sppw"
      },
      "source": [
        "We have already seen how to create arrays with simple lists, but now lets look at how to create more complicated lists that we can turn into arrays.  A short way of creating a list, say from 0 to 9 is as follows:"
      ]
    },
    {
      "cell_type": "code",
      "metadata": {
        "id": "YnWZUuD0Sppy"
      },
      "source": [
        "output=[n for n in range(10)]\n",
        "print(output)"
      ],
      "execution_count": null,
      "outputs": []
    },
    {
      "cell_type": "markdown",
      "metadata": {
        "id": "va2JwmL-Spp2"
      },
      "source": [
        "This code is doing the exact same thing as the longer expression"
      ]
    },
    {
      "cell_type": "code",
      "metadata": {
        "id": "31NxfpxjSpp5"
      },
      "source": [
        "output=[]\n",
        "for n in range(10):\n",
        "    output.append(n)\n",
        "print(output)"
      ],
      "execution_count": null,
      "outputs": []
    },
    {
      "cell_type": "markdown",
      "metadata": {
        "id": "OpqfrGynSpp-"
      },
      "source": [
        "We could turn this into an array quite easy"
      ]
    },
    {
      "cell_type": "code",
      "metadata": {
        "id": "LHzObg9bSpqb"
      },
      "source": [
        "array(output)"
      ],
      "execution_count": null,
      "outputs": []
    },
    {
      "cell_type": "markdown",
      "metadata": {
        "id": "jcLSORg_Spqf"
      },
      "source": [
        "Or, we can save even more space and create the list inside of the array function:"
      ]
    },
    {
      "cell_type": "code",
      "metadata": {
        "id": "c2d4LuiTSpqg"
      },
      "source": [
        "array([n for n in range(10)])"
      ],
      "execution_count": null,
      "outputs": []
    },
    {
      "cell_type": "markdown",
      "metadata": {
        "id": "cPCH0ud-Spqj"
      },
      "source": [
        "This can also be used to create more complicated arrays"
      ]
    },
    {
      "cell_type": "code",
      "metadata": {
        "id": "qtaS9sT8Spqm"
      },
      "source": [
        "array([2.0*k**0.563 for k in range(0,10,2)])"
      ],
      "execution_count": null,
      "outputs": []
    },
    {
      "cell_type": "markdown",
      "metadata": {
        "id": "ZmNFKn_iSpqo"
      },
      "source": [
        "####Array Creation in NumPy (see [NumPy Documentation](http://docs.scipy.org/doc/numpy/reference/routines.array-creation.html) for more info.)"
      ]
    },
    {
      "cell_type": "markdown",
      "metadata": {
        "id": "5eMt5atzSpqq"
      },
      "source": [
        "NumPy has several extremely important array creation functions that will make you life much easier. For example, creating arrays of all zeros or ones is trivial. "
      ]
    },
    {
      "cell_type": "code",
      "metadata": {
        "id": "QjXqJh2vSpqs"
      },
      "source": [
        "zeros(5)"
      ],
      "execution_count": null,
      "outputs": []
    },
    {
      "cell_type": "code",
      "metadata": {
        "id": "6HoqvqNnSpqw"
      },
      "source": [
        "ones(10)"
      ],
      "execution_count": null,
      "outputs": []
    },
    {
      "cell_type": "markdown",
      "metadata": {
        "id": "SusahwKnSpqz"
      },
      "source": [
        "However, the most useful functions are [**```arange```**](http://docs.scipy.org/doc/numpy/reference/generated/numpy.arange.html#numpy.arange) which generates evenly spaced values within a given interval in a similar way that the ```range``` function did, and [**```linspace```**](http://docs.scipy.org/doc/numpy/reference/generated/numpy.linspace.html) that makes a linear array of points from a starting to an ending value."
      ]
    },
    {
      "cell_type": "code",
      "metadata": {
        "id": "-VIcdgauSpq0"
      },
      "source": [
        "arange(5)"
      ],
      "execution_count": null,
      "outputs": []
    },
    {
      "cell_type": "code",
      "metadata": {
        "id": "-g1CYh95Spq3"
      },
      "source": [
        "arange(0,10,2)"
      ],
      "execution_count": null,
      "outputs": []
    },
    {
      "cell_type": "code",
      "metadata": {
        "id": "n2ErhpLzSpq5"
      },
      "source": [
        "linspace(0,10,20) #makes an array of 20 points linearly spaced from 0 to 10"
      ],
      "execution_count": null,
      "outputs": []
    },
    {
      "cell_type": "code",
      "metadata": {
        "id": "kKUpq89ASpq9"
      },
      "source": [
        "linspace(-5,5,15) #15 points in range from -5 to 5"
      ],
      "execution_count": null,
      "outputs": []
    },
    {
      "cell_type": "markdown",
      "metadata": {
        "id": "-upi9pIRSpq-"
      },
      "source": [
        "### A.12. Differences Between Arrays and Lists"
      ]
    },
    {
      "cell_type": "markdown",
      "metadata": {
        "id": "88Lgb8LZSprG"
      },
      "source": [
        "Having played with arrays a bit, it is now time to explain the main differences between NumPy arrays and Python lists."
      ]
    },
    {
      "cell_type": "markdown",
      "metadata": {
        "id": "qxzLETOpSprI"
      },
      "source": [
        "Python lists are very general and can hold any combination of data types.  However, NumPy **arrays can only hold one type of data** (integers, floats, strings, complex).  If we try to combine different types of data, then the array function will **upcast** the data in the array such that it all has the same type"
      ]
    },
    {
      "cell_type": "code",
      "metadata": {
        "id": "TH3MYGuFSprJ"
      },
      "source": [
        "array([1,2,3.14]) # [int,int,float] -> [float,float,float]"
      ],
      "execution_count": null,
      "outputs": []
    },
    {
      "cell_type": "markdown",
      "metadata": {
        "id": "rLDso5NBSprM"
      },
      "source": [
        "Upcasting between integers and floats does not cause too much trouble, but mixing strings and numbers in an array can create problems"
      ]
    },
    {
      "cell_type": "code",
      "metadata": {
        "id": "7GrrbjUlSprN"
      },
      "source": [
        "array([1.0,1+1j,'hello']) #array data is upcast to strings"
      ],
      "execution_count": null,
      "outputs": []
    },
    {
      "cell_type": "markdown",
      "metadata": {
        "id": "OTlIB35TSprQ"
      },
      "source": [
        "If we want, we can manually change the type of the data inside the array using the ```dtype``` (\"data type\") keyword argument.  Frequently used dtypes are: ```int, float, complex, bool, str, object```, etc.  For example, to convert a list of integers to floats we can write"
      ]
    },
    {
      "cell_type": "code",
      "metadata": {
        "id": "kHR3EvN-SprR"
      },
      "source": [
        "array([1,2,3,4,5],dtype=float)"
      ],
      "execution_count": null,
      "outputs": []
    },
    {
      "cell_type": "code",
      "metadata": {
        "id": "IOhXVSbKSprU"
      },
      "source": [
        "arange(2,10,2,dtype=complex)"
      ],
      "execution_count": null,
      "outputs": []
    },
    {
      "cell_type": "code",
      "metadata": {
        "id": "JanHXce_SprX"
      },
      "source": [
        "array([k for k in range(10)],dtype=str)"
      ],
      "execution_count": null,
      "outputs": []
    },
    {
      "cell_type": "markdown",
      "metadata": {
        "id": "qVpQiR_-Spra"
      },
      "source": [
        "Unlike Python lists, **we can not remove or add elements to an array once it has been created**.  Therefore, we must know the size of the array before creating it."
      ]
    },
    {
      "cell_type": "markdown",
      "metadata": {
        "id": "nRCD-jA8Sprd"
      },
      "source": [
        "Because arrays hold only one type of data, mathematical functions such as multiplication and addition of arrays can be implemented in at the c-code level.  This means that these kinds of operations are very fast and memory efficient.  The mathematical operations on arrays are performed **elementwise**, which means that each element gets acted on in the same way.  This is an example of **vectorization**.  For example:"
      ]
    },
    {
      "cell_type": "code",
      "metadata": {
        "id": "gfJu3BhJSprf"
      },
      "source": [
        "a=array([1,2,3,4])\n",
        "5.0*a #This gets upcasted because 5.0 is a float"
      ],
      "execution_count": null,
      "outputs": []
    },
    {
      "cell_type": "code",
      "metadata": {
        "id": "V2EkXVApSprj"
      },
      "source": [
        "5*a**2-4"
      ],
      "execution_count": null,
      "outputs": []
    },
    {
      "cell_type": "markdown",
      "metadata": {
        "id": "mm9My9wnSprl"
      },
      "source": [
        "Recall that none of these operations worked on Python lists."
      ]
    },
    {
      "cell_type": "markdown",
      "metadata": {
        "id": "cLoQ0LOeSprp"
      },
      "source": [
        "### A.13. Using NumPy Functions on Arrays"
      ]
    },
    {
      "cell_type": "markdown",
      "metadata": {
        "id": "95vrcfDSSprs"
      },
      "source": [
        "Remember that NumPy has a large builtin [collection of mathematical functions](http://docs.scipy.org/doc/numpy/reference/routines.math.html).  When using NumPy arrays as our data structure, these functions become even more powerful as we can apply the same function elementwise over the entire array very quickly.  Again, this is called vectorization and can speed up your code by many times."
      ]
    },
    {
      "cell_type": "code",
      "metadata": {
        "id": "ZVRebTtfSprs"
      },
      "source": [
        "x=linspace(-pi,pi,10)\n",
        "sin(x)"
      ],
      "execution_count": null,
      "outputs": []
    },
    {
      "cell_type": "code",
      "metadata": {
        "id": "cpfqDVEMSprv"
      },
      "source": [
        "x=array([x**2 for x in range(4)])\n",
        "sqrt(x)"
      ],
      "execution_count": null,
      "outputs": []
    },
    {
      "cell_type": "code",
      "metadata": {
        "id": "FOZHGeaRSprx"
      },
      "source": [
        "x=array([2*n+1 for n in range(10)])\n",
        "sum(x) #sums up all elements in the array"
      ],
      "execution_count": null,
      "outputs": []
    },
    {
      "cell_type": "markdown",
      "metadata": {
        "id": "DfRipF56Spr0"
      },
      "source": [
        "## A.14. Boolean Operations on Arrays"
      ]
    },
    {
      "cell_type": "markdown",
      "metadata": {
        "id": "_qZ0YtQVSpr2"
      },
      "source": [
        "Like other mathematical functions, we can also use conditional statements on arrays to check whether each individual element satisfies a given expression.  For example, to find the location of array elements that are less than zero we could do"
      ]
    },
    {
      "cell_type": "code",
      "metadata": {
        "id": "6BtbfD8qSpr3"
      },
      "source": [
        "a=array([0,-1,2,-3,4])\n",
        "print(a<0)"
      ],
      "execution_count": null,
      "outputs": []
    },
    {
      "cell_type": "markdown",
      "metadata": {
        "id": "lRiasb_HSpr6"
      },
      "source": [
        "The result in another array of boolean (```True/False```) values indicating whether a given element is less than zero.  Or, for example, we can find all of the odd numbers in an array."
      ]
    },
    {
      "cell_type": "code",
      "metadata": {
        "id": "vfoTwvq_Spr8"
      },
      "source": [
        "a=arange(10)\n",
        "print((mod(a,2)!=0))"
      ],
      "execution_count": null,
      "outputs": []
    },
    {
      "cell_type": "markdown",
      "metadata": {
        "id": "KMD3IfoBSpr9"
      },
      "source": [
        "### A.15. Slicing NumPy Arrays"
      ]
    },
    {
      "cell_type": "markdown",
      "metadata": {
        "id": "4bB26B-rSpr-"
      },
      "source": [
        "Just like lists, arrays can be sliced to get certain elements of the array, or to modify certain elements of the array.  For example, lets try to get every third element from a given array"
      ]
    },
    {
      "cell_type": "code",
      "metadata": {
        "id": "vm86JuhFSpr_"
      },
      "source": [
        "a=arange(20)\n",
        "a[3::3]"
      ],
      "execution_count": null,
      "outputs": []
    },
    {
      "cell_type": "markdown",
      "metadata": {
        "id": "R8hBhPBbSpsC"
      },
      "source": [
        "Now lets set each of these elements equal to -1."
      ]
    },
    {
      "cell_type": "code",
      "metadata": {
        "id": "1FYAKnt1SpsD"
      },
      "source": [
        "a[3::3]=-1\n",
        "print(a)"
      ],
      "execution_count": null,
      "outputs": []
    },
    {
      "cell_type": "markdown",
      "metadata": {
        "id": "GqudktjiSpsG"
      },
      "source": [
        "We can also slice the array so that it returns the original array in reverse"
      ]
    },
    {
      "cell_type": "code",
      "metadata": {
        "id": "zAc3L3fcSpsH"
      },
      "source": [
        "a=arange(10)\n",
        "a[::-1]"
      ],
      "execution_count": null,
      "outputs": []
    },
    {
      "cell_type": "markdown",
      "metadata": {
        "id": "JDiFqiv7SpsL"
      },
      "source": [
        "Finally, what if we want to get only those elements in the array that satisfy a certain conditional statement?  Recall that conditional statements on an array return another array of boolean values.  We can use this boolean array as an index to pick out only those elements where the boolean value is ```True```."
      ]
    },
    {
      "cell_type": "code",
      "metadata": {
        "id": "45hlTXGlSpsM"
      },
      "source": [
        "a=linspace(-10,10,20)\n",
        "print(a[a<=-5])"
      ],
      "execution_count": null,
      "outputs": []
    },
    {
      "cell_type": "markdown",
      "metadata": {
        "id": "u9chcaWsSpsO"
      },
      "source": [
        "We must be careful though. Checking for multiple conditionals is not allowed"
      ]
    },
    {
      "cell_type": "code",
      "metadata": {
        "id": "ahM6RohMSpsP"
      },
      "source": [
        "print(a[-8<a<=-5])"
      ],
      "execution_count": null,
      "outputs": []
    },
    {
      "cell_type": "markdown",
      "metadata": {
        "id": "xRo8lpXvSpsR"
      },
      "source": [
        "The reason for this error is because the computer does not know how to take an array of many ```True/False``` values and return just a single value.\n",
        "\n",
        "We can however combine several conditions using boolean logic operations ``&`` (and) and ``|`` (or)"
      ]
    },
    {
      "cell_type": "code",
      "metadata": {
        "id": "8DBkqG5ZK_zW"
      },
      "source": [
        "print(a[(-8<a) & (a<=-5)])"
      ],
      "execution_count": null,
      "outputs": []
    },
    {
      "cell_type": "markdown",
      "metadata": {
        "id": "iH2n76D93cHz"
      },
      "source": [
        "### A.16. Using Python For Simple Calculations\n",
        "\n",
        "As a first step, lets try to use the interactive Python command line tool **iPython** as a basic calculator. Addition, subtraction, and multiplication, all work in the same way as you would write the equations down on paper\n"
      ]
    },
    {
      "cell_type": "code",
      "metadata": {
        "id": "2V4yDCMf4WKC"
      },
      "source": [
        ""
      ],
      "execution_count": null,
      "outputs": []
    },
    {
      "cell_type": "markdown",
      "metadata": {
        "id": "bHE0EezhAKqb"
      },
      "source": [
        "## **B. Short introduction to QuTiP - The Quantum Toolbox in Python**\n",
        "Tutorial by J. R. Johansson (robert@riken.jp)\n",
        "\n",
        "**adapted for this course by S. Whitlock**\n",
        "\n",
        "The original version of this [IPython notebook](http://ipython.org/ipython-doc/dev/interactive/htmlnotebook.html) lecture is available at [http://github.com/jrjohansson/qutip-lectures](http://github.com/jrjohansson/qutip-lectures).\n",
        "\n",
        "The other notebooks in this lecture series are indexed at [http://jrjohansson.github.com](http://jrjohansson.github.com)."
      ]
    },
    {
      "cell_type": "code",
      "metadata": {
        "id": "5KGOJk8eAKqn"
      },
      "source": [
        "%matplotlib inline\n",
        "import matplotlib.pyplot as plt\n",
        "from numpy import *\n",
        "from IPython.display import Image"
      ],
      "execution_count": 14,
      "outputs": []
    },
    {
      "cell_type": "markdown",
      "metadata": {
        "id": "ml3mzlErAKqs"
      },
      "source": [
        "### Introduction\n",
        "\n",
        "QuTiP is a python package for calculations and numerical simulations of quantum systems. \n",
        "\n",
        "It includes facilities for representing and doing calculations with quantum objects such state vectors (wavefunctions), as bras/kets/density matrices, quantum operators of single and composite systems, and superoperators (useful for defining master equations).\n",
        "\n",
        "It also includes solvers for a time-evolution of quantum systems, according to: Schrodinger equation, von Neuman equation, master equations, Floquet formalism, Monte-Carlo quantum trajectors, experimental implementations of the stochastic Schrodinger/master equations.\n",
        "\n",
        "For more information see the project web site at http://qutip.googlecode.com, and the documentation at http://qutip.googlecode.com/svn/doc/2.1.0/html/index.html."
      ]
    },
    {
      "cell_type": "markdown",
      "metadata": {
        "id": "fotTBkBKAKqx"
      },
      "source": [
        "### Installation\n",
        "\n",
        "QuTiP is already installed in this notebook in the Initialization cell. \n",
        "\n",
        "To install QuTiP offline, download the latest release from http://code.google.com/p/qutip/downloads/list or get the latest code from https://github.com/qutip/qutip, and run\n",
        "\n",
        "    $ sudo python setup.py install\n",
        "\n",
        "in the source code directory. For more detailed installation instructions and a list of dependencies that must be installed on the system (basically python+cython+numpy+scipy+matplotlib), see http://qutip.googlecode.com/svn/doc/2.1.0/html/installation.html."
      ]
    },
    {
      "cell_type": "markdown",
      "metadata": {
        "id": "13LG4fdAAKq2"
      },
      "source": [
        "To use QuTiP in a Python program, first include the `qutip` module:"
      ]
    },
    {
      "cell_type": "code",
      "metadata": {
        "id": "3qKFpNnhAKq6"
      },
      "source": [
        "from qutip import *"
      ],
      "execution_count": 17,
      "outputs": []
    },
    {
      "cell_type": "markdown",
      "metadata": {
        "id": "PnYH9MkEAKq_"
      },
      "source": [
        "This will make the functions and classes in QuTiP available in the rest of the program."
      ]
    },
    {
      "cell_type": "markdown",
      "metadata": {
        "id": "S9ncELGvAKrB"
      },
      "source": [
        "### Quantum object class: `qobj`\n",
        "\n",
        "At the heart of the QuTiP package is the `Qobj` class, which is used for representing quantum object such as states and operator. \n",
        "\n",
        "The `Qobj` class contains all the information required to describe a quantum system, such as its matrix representation, composite structure and dimensionality. "
      ]
    },
    {
      "cell_type": "markdown",
      "metadata": {
        "id": "FOrIWJ9lAKrn"
      },
      "source": [
        "### Creating and inspecting quantum objects"
      ]
    },
    {
      "cell_type": "markdown",
      "metadata": {
        "id": "UXg6oAvKAKrq"
      },
      "source": [
        "We can create a new quantum object using the `Qobj` class constructor, like this:"
      ]
    },
    {
      "cell_type": "code",
      "metadata": {
        "id": "XWMPKdUcAKr0",
        "outputId": "f704346e-3807-4256-ce29-ac93744f795c",
        "colab": {
          "base_uri": "https://localhost:8080/",
          "height": 35
        }
      },
      "source": [
        "ket = Qobj([[1/sqrt(2)], [1j/sqrt(2)]])\n",
        "\n",
        "ket"
      ],
      "execution_count": 18,
      "outputs": [
        {
          "output_type": "execute_result",
          "data": {
            "text/latex": "Quantum object: dims = [[2], [1]], shape = (2, 1), type = ket\\begin{equation*}\\left(\\begin{array}{*{11}c}0.707\\\\0.707j\\\\\\end{array}\\right)\\end{equation*}",
            "text/plain": [
              "Quantum object: dims = [[2], [1]], shape = (2, 1), type = ket\n",
              "Qobj data =\n",
              "[[0.70710678+0.j        ]\n",
              " [0.        +0.70710678j]]"
            ]
          },
          "metadata": {
            "tags": []
          },
          "execution_count": 18
        }
      ]
    },
    {
      "cell_type": "markdown",
      "metadata": {
        "id": "_98w22RTAKr4"
      },
      "source": [
        "Here we passed python list as an argument to the class constructor. The data in this list is used to construct the matrix representation of the quantum objects, and the other properties of the quantum object is by default computed from the same data.\n",
        "\n",
        "We can inspect the properties of a `Qobj` instance using the following class method:"
      ]
    },
    {
      "cell_type": "code",
      "metadata": {
        "id": "j4HIGHg8AKr5",
        "outputId": "21929ca5-292a-4d40-b69e-16fe9e885f86",
        "colab": {
          "base_uri": "https://localhost:8080/"
        }
      },
      "source": [
        "# the dimension, or composite Hilbert state space structure\n",
        "ket.dims"
      ],
      "execution_count": 19,
      "outputs": [
        {
          "output_type": "execute_result",
          "data": {
            "text/plain": [
              "[[2], [1]]"
            ]
          },
          "metadata": {
            "tags": []
          },
          "execution_count": 19
        }
      ]
    },
    {
      "cell_type": "code",
      "metadata": {
        "id": "LRSSFcjxAKr9",
        "outputId": "b0b07d90-b060-4039-f01d-ebdd2dc130a6",
        "colab": {
          "base_uri": "https://localhost:8080/"
        }
      },
      "source": [
        "# the shape of the matrix data representation\n",
        "ket.shape"
      ],
      "execution_count": 20,
      "outputs": [
        {
          "output_type": "execute_result",
          "data": {
            "text/plain": [
              "(2, 1)"
            ]
          },
          "metadata": {
            "tags": []
          },
          "execution_count": 20
        }
      ]
    },
    {
      "cell_type": "code",
      "metadata": {
        "id": "ZDvuEsszAKsC",
        "outputId": "c0f91a6e-7a6e-4788-c547-66e599d6bb1f",
        "colab": {
          "base_uri": "https://localhost:8080/"
        }
      },
      "source": [
        "# the matrix data itself. in sparse matrix format. \n",
        "ket.data"
      ],
      "execution_count": 21,
      "outputs": [
        {
          "output_type": "execute_result",
          "data": {
            "text/plain": [
              "<2x1 sparse matrix of type '<class 'numpy.complex128'>'\n",
              "\twith 2 stored elements in Compressed Sparse Row format>"
            ]
          },
          "metadata": {
            "tags": []
          },
          "execution_count": 21
        }
      ]
    },
    {
      "cell_type": "code",
      "metadata": {
        "id": "hZxUrXeXAKsF",
        "outputId": "a1f9cfb5-f580-401f-f93c-e27370e1495b",
        "colab": {
          "base_uri": "https://localhost:8080/"
        }
      },
      "source": [
        "# get the dense matrix representation\n",
        "ket.full()"
      ],
      "execution_count": 22,
      "outputs": [
        {
          "output_type": "execute_result",
          "data": {
            "text/plain": [
              "array([[0.70710678+0.j        ],\n",
              "       [0.        +0.70710678j]])"
            ]
          },
          "metadata": {
            "tags": []
          },
          "execution_count": 22
        }
      ]
    },
    {
      "cell_type": "code",
      "metadata": {
        "id": "2ObwsYiMQJL-",
        "outputId": "8306fbfd-c3b0-4cf2-b7a0-9832c5bdf097",
        "colab": {
          "base_uri": "https://localhost:8080/"
        }
      },
      "source": [
        "# print the qobject as a matrix (column vector in this case)\n",
        "# uses the matprint function defined at the beginning of this notebook\n",
        "matprint(ket)"
      ],
      "execution_count": 23,
      "outputs": [
        {
          "output_type": "stream",
          "text": [
            "0.707107+0j  \n",
            "0+0.707107j  \n"
          ],
          "name": "stdout"
        }
      ]
    },
    {
      "cell_type": "code",
      "metadata": {
        "id": "RD3sQCDPfIiw",
        "outputId": "7dccb216-1e15-4fd1-d403-1a6ce0b69ecd",
        "colab": {
          "base_uri": "https://localhost:8080/"
        }
      },
      "source": [
        "# obtain the conjugate transpose 'dagger' of the state vector\n",
        "bra = ket.dag()\n",
        "matprint(bra)"
      ],
      "execution_count": 24,
      "outputs": [
        {
          "output_type": "stream",
          "text": [
            "0.707107+0j  0-0.707107j  \n"
          ],
          "name": "stdout"
        }
      ]
    },
    {
      "cell_type": "code",
      "metadata": {
        "id": "1pKQBh9hAKsI",
        "outputId": "3d086ff1-93a0-490b-d33d-8d0ff46058f0",
        "colab": {
          "base_uri": "https://localhost:8080/"
        }
      },
      "source": [
        "# some additional properties\n",
        "ket.isherm, ket.type "
      ],
      "execution_count": 25,
      "outputs": [
        {
          "output_type": "execute_result",
          "data": {
            "text/plain": [
              "(False, 'ket')"
            ]
          },
          "metadata": {
            "tags": []
          },
          "execution_count": 25
        }
      ]
    },
    {
      "cell_type": "markdown",
      "metadata": {
        "id": "Sr-T8agJAKsK"
      },
      "source": [
        "### Using `Qobj` instances for calculations\n",
        "\n",
        "With `Qobj` instances we can do arithmetic and apply a number of different operations using class methods:"
      ]
    },
    {
      "cell_type": "code",
      "metadata": {
        "id": "gSH6XJvZAKsM",
        "outputId": "2230453c-185b-4e0b-8933-8679167a90a4",
        "colab": {
          "base_uri": "https://localhost:8080/"
        }
      },
      "source": [
        "Y = Qobj([[0,-1j], [1j,0]])  # the sigma-y Pauli operator\n",
        "\n",
        "matprint(Y)"
      ],
      "execution_count": 27,
      "outputs": [
        {
          "output_type": "stream",
          "text": [
            "0+0j  0-1j  \n",
            "0+1j  0+0j  \n"
          ],
          "name": "stdout"
        }
      ]
    },
    {
      "cell_type": "code",
      "metadata": {
        "id": "RhFKZRVwAKsR",
        "outputId": "4152d41d-c99c-4301-c0e7-229dc08cb9b5",
        "colab": {
          "base_uri": "https://localhost:8080/"
        }
      },
      "source": [
        "Z = Qobj([[1,0], [0,-1]]) # the sigma-z Pauli operator\n",
        "\n",
        "matprint(Z)"
      ],
      "execution_count": 28,
      "outputs": [
        {
          "output_type": "stream",
          "text": [
            "1+0j   0+0j  \n",
            "0+0j  -1+0j  \n"
          ],
          "name": "stdout"
        }
      ]
    },
    {
      "cell_type": "markdown",
      "metadata": {
        "id": "UJmTjmBzC1tR"
      },
      "source": [
        "Some elementary operators are already built in:"
      ]
    },
    {
      "cell_type": "code",
      "metadata": {
        "id": "j24HdCdAGxrV",
        "outputId": "0ca9586f-3646-429d-de2a-f1bfac2b99cf",
        "colab": {
          "base_uri": "https://localhost:8080/"
        }
      },
      "source": [
        "X = sigmax()\n",
        "\n",
        "matprint(X)"
      ],
      "execution_count": 29,
      "outputs": [
        {
          "output_type": "stream",
          "text": [
            "0+0j  1+0j  \n",
            "1+0j  0+0j  \n"
          ],
          "name": "stdout"
        }
      ]
    },
    {
      "cell_type": "markdown",
      "metadata": {
        "id": "9D22nQrM8jFc"
      },
      "source": [
        "The `qeye(N)` function generates the identity operator with a Hilbert space dimension of `N`."
      ]
    },
    {
      "cell_type": "code",
      "metadata": {
        "id": "YxsTKNbO8iEk",
        "outputId": "490f7f95-fb53-42fc-9c9c-e87729ae57dc",
        "colab": {
          "base_uri": "https://localhost:8080/"
        }
      },
      "source": [
        "matprint( qeye(2) )"
      ],
      "execution_count": 30,
      "outputs": [
        {
          "output_type": "stream",
          "text": [
            "1+0j  0+0j  \n",
            "0+0j  1+0j  \n"
          ],
          "name": "stdout"
        }
      ]
    },
    {
      "cell_type": "code",
      "metadata": {
        "id": "lWQhHU3aAKst",
        "outputId": "8f2de4ff-2158-4619-f6e4-92733c60fa0f",
        "colab": {
          "base_uri": "https://localhost:8080/"
        }
      },
      "source": [
        "# some arithmetic with quantum objects\n",
        "\n",
        "H = 1.0 * Z + 0.1 * Y\n",
        "\n",
        "print(\"Qubit Hamiltonian = \\n\")\n",
        "matprint(H)"
      ],
      "execution_count": 31,
      "outputs": [
        {
          "output_type": "stream",
          "text": [
            "Qubit Hamiltonian = \n",
            "\n",
            "  1+0j  0-0.1j  \n",
            "0+0.1j   -1+0j  \n"
          ],
          "name": "stdout"
        }
      ]
    },
    {
      "cell_type": "markdown",
      "metadata": {
        "id": "k2f1VX_VAKsw"
      },
      "source": [
        "Example of modifying quantum objects using the `Qobj` methods:"
      ]
    },
    {
      "cell_type": "code",
      "metadata": {
        "id": "Iuli4wqPAKsy",
        "outputId": "d4d58e83-9b46-4676-eadb-893d19989259",
        "colab": {
          "base_uri": "https://localhost:8080/"
        }
      },
      "source": [
        "# The hermitian conjugate\n",
        "matprint( Y.dag() )\n"
      ],
      "execution_count": 32,
      "outputs": [
        {
          "output_type": "stream",
          "text": [
            "0+0j  0-1j  \n",
            "0+1j  0+0j  \n"
          ],
          "name": "stdout"
        }
      ]
    },
    {
      "cell_type": "code",
      "metadata": {
        "id": "doSiapQJAKs2",
        "outputId": "39987073-91ab-4055-b73b-ca1e0a209591",
        "colab": {
          "base_uri": "https://localhost:8080/"
        }
      },
      "source": [
        "# The trace\n",
        "H.tr()"
      ],
      "execution_count": 33,
      "outputs": [
        {
          "output_type": "execute_result",
          "data": {
            "text/plain": [
              "0.0"
            ]
          },
          "metadata": {
            "tags": []
          },
          "execution_count": 33
        }
      ]
    },
    {
      "cell_type": "code",
      "metadata": {
        "id": "_YfmLpBHZtKL",
        "outputId": "64b3a556-0104-4bda-8943-c39403e98a24",
        "colab": {
          "base_uri": "https://localhost:8080/"
        }
      },
      "source": [
        "matprint(H)"
      ],
      "execution_count": 37,
      "outputs": [
        {
          "output_type": "stream",
          "text": [
            "  1+0j  0-0.1j  \n",
            "0+0.1j   -1+0j  \n"
          ],
          "name": "stdout"
        }
      ]
    },
    {
      "cell_type": "code",
      "metadata": {
        "id": "SKKJCDx1AKs5",
        "outputId": "41aede44-8c85-47d1-dd1e-46d1535a14de",
        "colab": {
          "base_uri": "https://localhost:8080/"
        }
      },
      "source": [
        "# Eigen energies\n",
        "H.eigenenergies()"
      ],
      "execution_count": 36,
      "outputs": [
        {
          "output_type": "execute_result",
          "data": {
            "text/plain": [
              "array([-1.00498756,  1.00498756])"
            ]
          },
          "metadata": {
            "tags": []
          },
          "execution_count": 36
        }
      ]
    },
    {
      "cell_type": "markdown",
      "metadata": {
        "id": "uoUhHO9cAKs7"
      },
      "source": [
        "For a complete list of methods and properties of the `Qobj` class, see the [QuTiP documentation](http://qutip.googlecode.com/svn/doc/2.1.0/html/index.html) or try `help(Qobj)` or `dir(Qobj)`."
      ]
    },
    {
      "cell_type": "markdown",
      "metadata": {
        "id": "MJ9V8lSMetb8"
      },
      "source": [
        "### Expectation values\n",
        "\n",
        "The expectation values of an operator given a state vector (or density matrix, or list thereof) can be calculated using the `expect` function."
      ]
    },
    {
      "cell_type": "code",
      "metadata": {
        "id": "sGs7P778eyM5"
      },
      "source": [
        "expect(Y,ket) # ket.dag() * sigmay() * ket"
      ],
      "execution_count": null,
      "outputs": []
    },
    {
      "cell_type": "markdown",
      "metadata": {
        "id": "DRYhjeviXxuz"
      },
      "source": [
        "## **C. Visualizing and manipulating quantum states**"
      ]
    },
    {
      "cell_type": "code",
      "metadata": {
        "id": "NYpFQNpcX-nG"
      },
      "source": [
        "from qutip import *\n",
        "from numpy import *"
      ],
      "execution_count": 38,
      "outputs": []
    },
    {
      "cell_type": "markdown",
      "metadata": {
        "id": "MSUS7QCQYYl1"
      },
      "source": [
        "### **C.1 Visualizing quantum states on the Bloch sphere**"
      ]
    },
    {
      "cell_type": "markdown",
      "metadata": {
        "id": "gM2vUCPigZCG"
      },
      "source": [
        "We can conveniently generate a Bloch sphere within QuTip using the Bloch() class"
      ]
    },
    {
      "cell_type": "code",
      "metadata": {
        "id": "s6fK_gctYRv8"
      },
      "source": [
        "b = Bloch() # this creates an instance of the qutip.Bloch class\n",
        "\n",
        "# we can add some vectors to the Bloch sphere. Lets take the three cartesian components\n",
        "vec = [[1,0,0],[0,1,0],[0,0,1]]\n",
        "\n",
        "b.add_vectors(vec)\n",
        "b.vector_color = ['k','k','k']\n",
        "b.show()"
      ],
      "execution_count": null,
      "outputs": []
    },
    {
      "cell_type": "markdown",
      "metadata": {
        "id": "imWZ27YpgjgM"
      },
      "source": [
        "#### *Q1. Define an arbitrary state of a single qubit in terms of the angles $\\theta$ and $\\phi$ and plot it as a vector on the Bloch sphere*\n",
        "\n",
        "An arbitrary quantum state of a single qubit can be defined by \n",
        "\n",
        "$$|\\psi\\rangle = \\cos\\frac{\\theta}{2}|0\\rangle+e^{i\\varphi}\\sin \\frac{\\theta}{2}|1\\rangle$$\n",
        "\n",
        "**Hints:**\n",
        "\n",
        "*Imaginary numbers can be represented using the numpy notation ``1j``*\n",
        "\n",
        "*You can add a state vector to the Bloch sphere using ``b.add_states(psi)``*\n"
      ]
    },
    {
      "cell_type": "code",
      "metadata": {
        "id": "Du3JkoOh2Fvk"
      },
      "source": [
        "# Answer to Q1\n",
        "\n"
      ],
      "execution_count": 39,
      "outputs": []
    },
    {
      "cell_type": "markdown",
      "metadata": {
        "id": "jM3-wCC3chdJ"
      },
      "source": [
        "#### *Q2. Visualize the state after the application of the Pauli X operator $\\hat X$*\n",
        "\n",
        "We want to calculate $$|\\psi'\\rangle = \\hat X |\\psi\\rangle$$ \n",
        "\n",
        "Can you deduce the effect of the $\\hat X$ operator on an arbitrary single qubit state?"
      ]
    },
    {
      "cell_type": "code",
      "metadata": {
        "id": "P_heKe_13O7T"
      },
      "source": [
        "# Answer to Q2"
      ],
      "execution_count": null,
      "outputs": []
    },
    {
      "cell_type": "markdown",
      "metadata": {
        "id": "GQ4ZhWccb3MP"
      },
      "source": [
        "#### *Q3. How would you compute the Bloch vector components (x,y,z) for an arbitrary state vector $|\\psi\\rangle$?*"
      ]
    },
    {
      "cell_type": "code",
      "metadata": {
        "id": "opoQ6fNH38bZ"
      },
      "source": [
        "# Answer to Q3"
      ],
      "execution_count": null,
      "outputs": []
    },
    {
      "cell_type": "markdown",
      "metadata": {
        "id": "bkmpKmfLlU6N"
      },
      "source": [
        "### **C.2 Unitary evolution (continuous time)**\n",
        "We now look at how to solve the time-dependent Schrödinger equation ($\\hbar =1$)\n",
        "\n",
        "$$i \\frac{d|\\psi\\rangle}{dt}= \\hat H |\\psi\\rangle$$\n",
        "\n",
        "As a concrete example, consider a qubit initially in the $|0\\rangle$ state (in the $Z$ basis) subject to a Hamiltonian $\\hat H = \\frac{\\Omega}{2}\\hat X$.\n"
      ]
    },
    {
      "cell_type": "markdown",
      "metadata": {
        "id": "YLU4vzPGnQQM"
      },
      "source": [
        "#### *Q4. Using pen and paper, write out a coupled set of equations for the complex coefficients $c_0(t), c_1(t)$*\n",
        "\n",
        "where $$|\\psi(t)\\rangle = c_0(t)|0\\rangle + c_1(t)|1\\rangle $$"
      ]
    },
    {
      "cell_type": "markdown",
      "metadata": {
        "id": "ydUEd9cdoYLj"
      },
      "source": [
        "#### *Q5. Numerically solve the coupled set of equations and plot the probabilities $P_0$ and $P_1$ assuming the qubit is initially in the $|0\\rangle$ state.*\n",
        "\n",
        "The built in ordinary differential equation solver 'solve_ivp' can be used to solve coupled sets of complex differential equations "
      ]
    },
    {
      "cell_type": "markdown",
      "metadata": {
        "id": "XNgTdOXUsfgN"
      },
      "source": [
        "Working example using solve_ivp"
      ]
    },
    {
      "cell_type": "code",
      "metadata": {
        "id": "Sj-BjHyVomMt"
      },
      "source": [
        "# one needs solve_ivp to solve complex valued differential equations\n",
        "from scipy.integrate import solve_ivp\n",
        "\n",
        "# This is a demonstration for a simple classical rate equation which you can modify to your needs\n",
        "\n",
        "# Start by defining a function which returns a vector for the \n",
        "# left hand side (lhs) of the ODEs depending on the instantaneous solution y = [y[0],y[1]]\n",
        "\n",
        "# Example for a classical rate equation with two components\n",
        "def lhs(t,y,Gamma1,Gamma2):\n",
        "    dydt = [-Gamma1 * y[0],\n",
        "            -Gamma2 * y[1]]\n",
        "    return dydt\n",
        "\n",
        "y0=np.array([1,1],complex) #initial state (to solve for quantum evolution, this must be type::complex)\n",
        "\n",
        "tspan = np.linspace(0, 10, 101) #timesteps to solve over\n",
        "\n",
        "Gamma1 = 1\n",
        "Gamma2 = 0.5\n",
        "\n",
        "sol=solve_ivp(lambda t, y: lhs(t, y, Gamma1,Gamma2),\n",
        "              (tspan.min(),tspan.max()), y0, t_eval=tspan)\n",
        "\n",
        "# plot the solution\n",
        "plt.plot(sol.t,sol.y[0],sol.t,sol.y[1],linewidth=3);\n"
      ],
      "execution_count": null,
      "outputs": []
    },
    {
      "cell_type": "code",
      "metadata": {
        "id": "BBMDmEs9A9PX"
      },
      "source": [
        "# Answer to Q5\n"
      ],
      "execution_count": null,
      "outputs": []
    },
    {
      "cell_type": "markdown",
      "metadata": {
        "id": "0V3bEwY3r_bI"
      },
      "source": [
        "#### *Q6. What is the period of the oscillations?*"
      ]
    },
    {
      "cell_type": "markdown",
      "metadata": {
        "id": "yYjrMrQTl8tq"
      },
      "source": [
        "#### *Alternatively, this problem can be solved in QuTip using the mesolve function*\n",
        "Unitary evolution of a quantum system in QuTiP can be calculated with the `sesolve` function. \n",
        "\n",
        "`mesolve` is short for Master-eqaution solve (for dissipative dynamics), but if no collapse operators (which describe the dissipation) are given to the solver it falls back on the unitary evolution of the Schrödinger equation (for initial states in state vector form)\n"
      ]
    },
    {
      "cell_type": "code",
      "metadata": {
        "id": "W5-XaxxHtcCH"
      },
      "source": [
        "# Hamiltonian\n",
        "H = Omega/2 * sigmax()\n",
        "\n",
        "# initial state\n",
        "psi0 = qt.Qobj([[1], [0]]) # equivalently basis(2, 0)\n",
        "\n",
        "# list of times for which the solver should store the state vector\n",
        "tlist = np.linspace(0, 10, 100)\n",
        "\n",
        "result = mesolve(H, psi0, tlist, [], [])"
      ],
      "execution_count": null,
      "outputs": []
    },
    {
      "cell_type": "markdown",
      "metadata": {
        "id": "IysdpZGfuMfp"
      },
      "source": [
        "The `result` object contains a list of the wavefunctions at the times requested with the `tlist` array. "
      ]
    },
    {
      "cell_type": "code",
      "metadata": {
        "id": "TOKcxyGYuLsJ"
      },
      "source": [
        "matprint(result.states[-1]) # the final state"
      ],
      "execution_count": null,
      "outputs": []
    },
    {
      "cell_type": "markdown",
      "metadata": {
        "id": "_vZV1rWhudqV"
      },
      "source": [
        "#### *Populations*\n",
        "\n",
        "Populations in the 0 and 1 states can be written as an expectation value of the projection operators $|0\\rangle\\langle 0|, |1\\rangle\\langle 1|$"
      ]
    },
    {
      "cell_type": "code",
      "metadata": {
        "id": "gPLa9n4EuqsI"
      },
      "source": [
        "P0 = Qobj([[1,0], [0,0]])  # the projection operator |0><0|\n",
        "P1 = Qobj([[0,0], [0,1]])  # the projection operator |1><1|\n",
        " \n",
        "pop0 = expect(P0, result.states)\n",
        "pop1 = expect(P1, result.states)"
      ],
      "execution_count": null,
      "outputs": []
    },
    {
      "cell_type": "code",
      "metadata": {
        "id": "l7jfnhI5voe2"
      },
      "source": [
        "plt.plot(tlist, pop0, tlist, pop1, linewidth=2)"
      ],
      "execution_count": null,
      "outputs": []
    },
    {
      "cell_type": "markdown",
      "metadata": {
        "id": "wAoQi7QvwG0r"
      },
      "source": [
        "### **C.3 Unitary evolution (discrete operations)**\n",
        "\n",
        "For time-independent Hamiltonians (or piecewise time-independent Hamiltonians), it is possible to describe the time evolution using the time-evolution operator which can be written (in which in units where $\\hbar = 1$):\n",
        "\n",
        "$$\\hat U = \\exp(-i \\hat H t)$$\n",
        "\n",
        "and\n",
        "\n",
        "$$|\\psi(t)\\rangle = \\hat U |\\psi(0)\\rangle$$"
      ]
    },
    {
      "cell_type": "markdown",
      "metadata": {
        "id": "rGHyPYV-wwSQ"
      },
      "source": [
        "#### *Q7. Define a function which returns the time-evolution operator for the Hamiltonian $\\hat H = \\frac{\\Omega}{2}\\hat X$*\n",
        "\n",
        "The function should return the operator in Qobj form or matrix form depending on two arguments: $\\Omega$ and time-step $t$\n",
        "\n",
        "**Hint:**\n",
        "In general one has to compute the matrix exponential using the power series representation of the exp function. In QuTip one can compute the matrix exponential of an operator using the Qobj.expm() function"
      ]
    },
    {
      "cell_type": "code",
      "metadata": {
        "id": "ZufFavBuxEdA"
      },
      "source": [
        "matprint( sigmax().expm() )"
      ],
      "execution_count": null,
      "outputs": []
    },
    {
      "cell_type": "code",
      "metadata": {
        "id": "3L-z6NQDA27t"
      },
      "source": [
        "# Answer to Q7\n"
      ],
      "execution_count": null,
      "outputs": []
    },
    {
      "cell_type": "markdown",
      "metadata": {
        "id": "nYc66x_ZzVkL"
      },
      "source": [
        "#### *Q8. Calculate a list of wavefunction values by repeated application of the operator $\\hat U$*\n",
        "\n",
        "Use a fixed timestep of $\\tau = 0.5/\\Omega$"
      ]
    },
    {
      "cell_type": "code",
      "metadata": {
        "id": "0tLEoC8TBXUR"
      },
      "source": [
        "# Answer to Q8\n"
      ],
      "execution_count": null,
      "outputs": []
    },
    {
      "cell_type": "markdown",
      "metadata": {
        "id": "XCMiRE2gAKuO"
      },
      "source": [
        "### **C.4 Composite systems**\n",
        "\n",
        "In the next tutorial we will be interested in quantum states of multiple qubits and their interactions\n",
        "\n",
        "To define states and operators for such systems in QuTiP we can use the `tensor` function to create `Qobj` instances for the composite system."
      ]
    },
    {
      "cell_type": "markdown",
      "metadata": {
        "id": "1yDYBHtu4m1y"
      },
      "source": [
        "#### *Q8. Define the quantum state of two qubits where the first qubit is in the 0 state and the second qubit is in the 1 state*\n",
        "\n",
        "i.e. $|\\psi\\rangle = |0\\rangle \\otimes |1\\rangle = |01\\rangle$"
      ]
    },
    {
      "cell_type": "code",
      "metadata": {
        "id": "l4Xt7SYbCG3y"
      },
      "source": [
        "# Answer to Q8\n"
      ],
      "execution_count": null,
      "outputs": []
    },
    {
      "cell_type": "markdown",
      "metadata": {
        "id": "OmbRQzI65SMY"
      },
      "source": [
        "#### *Q9. Define an operator that flips the state of the second qubit and does nothing to the first qubit*"
      ]
    },
    {
      "cell_type": "code",
      "metadata": {
        "id": "8C4zL6q1CTbe"
      },
      "source": [
        "# Answer to Q9\n"
      ],
      "execution_count": null,
      "outputs": []
    },
    {
      "cell_type": "markdown",
      "metadata": {
        "id": "ynGsJOnO57VA"
      },
      "source": [
        "#### *Q10. Define an operator that flips the state of the second qubit only if the first qubit is in the 0 state*"
      ]
    },
    {
      "cell_type": "code",
      "metadata": {
        "id": "iF_j_mzGCf8w"
      },
      "source": [
        "# Answer Q10\n"
      ],
      "execution_count": null,
      "outputs": []
    }
  ]
}